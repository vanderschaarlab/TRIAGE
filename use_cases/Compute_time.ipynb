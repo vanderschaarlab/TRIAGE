{
 "cells": [
  {
   "cell_type": "code",
   "execution_count": 1,
   "id": "9f9a7dc0-7f54-49ea-af47-b37f2e7d8a18",
   "metadata": {
    "id": "9f9a7dc0-7f54-49ea-af47-b37f2e7d8a18"
   },
   "outputs": [],
   "source": [
    "import sys\n",
    "sys.path.insert(0, \"../\")\n",
    "\n",
    "\n",
    "import matplotlib.pyplot as plt\n",
    "import numpy as np\n",
    "import pandas as pd\n",
    "from sklearn.model_selection import train_test_split\n",
    "\n",
    "from src.dataloader import *\n",
    "from triage.triage import Triage\n",
    "from src.utils import *\n"
   ]
  },
  {
   "cell_type": "code",
   "execution_count": 3,
   "id": "ef3065dc",
   "metadata": {
    "id": "ef3065dc"
   },
   "outputs": [],
   "source": [
    "df, _, _ = load_seer_cutract_dataset(name=\"seer\", seed=42)\n",
    "\n",
    "cols = df.columns\n"
   ]
  },
  {
   "attachments": {},
   "cell_type": "markdown",
   "id": "7e9a69e1",
   "metadata": {},
   "source": [
    "# Helper to compute evaluation time as part of the overall"
   ]
  },
  {
   "cell_type": "code",
   "execution_count": 4,
   "id": "67d42c17",
   "metadata": {
    "id": "67d42c17"
   },
   "outputs": [],
   "source": [
    "def evaluate_methods(X_prop_train, y_prop_train, X_cal, y_cal, X_test, y_test, seed):\n",
    "    from sklearn.metrics import mean_absolute_error as reg_metric\n",
    "    from sklearn.metrics import mean_squared_error as reg_metric_mse\n",
    "    results = {}\n",
    "    results_mse = {}\n",
    "\n",
    "    ######\n",
    "    myids = we_ids\n",
    "    len(myids)\n",
    "\n",
    "    learner_prop = xgb.XGBRegressor(n_estimators=nest, random_state=seed)\n",
    "    learner_prop.fit(X_prop_train[myids, :], y_prop_train[myids])\n",
    "\n",
    "    y_pred = learner_prop.predict(X_test)\n",
    "\n",
    "    results[\"TRIAGE\"] = reg_metric(y_test, y_pred)\n",
    "    results_mse[\"TRIAGE\"] = reg_metric_mse(y_test, y_pred)\n",
    "\n",
    "    return results, results_mse\n"
   ]
  },
  {
   "attachments": {},
   "cell_type": "markdown",
   "id": "f913cb0d",
   "metadata": {},
   "source": [
    "# Helper to modify n_samples for compute time exp"
   ]
  },
  {
   "cell_type": "code",
   "execution_count": 5,
   "id": "FPlBtdgGHfjj",
   "metadata": {
    "id": "FPlBtdgGHfjj"
   },
   "outputs": [],
   "source": [
    "def load_seer_cutract_dataset(name=\"seer\", seed=42, n=1000):\n",
    "    \"\"\"Function that loads the Seer and Cutract dataset.\"\"\"\n",
    "\n",
    "    # third party\n",
    "    import pandas as pd\n",
    "    import sklearn\n",
    "\n",
    "    def aggregate_grade(row):\n",
    "        if row[\"grade_1.0\"] == 1:\n",
    "            return 1\n",
    "        if row[\"grade_2.0\"] == 1:\n",
    "            return 2\n",
    "        if row[\"grade_3.0\"] == 1:\n",
    "            return 3\n",
    "        if row[\"grade_4.0\"] == 1:\n",
    "            return 4\n",
    "        if row[\"grade_5.0\"] == 1:\n",
    "            return 5\n",
    "\n",
    "    def aggregate_stage(row):\n",
    "        if row[\"stage_1\"] == 1:\n",
    "            return 1\n",
    "        if row[\"stage_2\"] == 1:\n",
    "            return 2\n",
    "        if row[\"stage_3\"] == 1:\n",
    "            return 3\n",
    "        if row[\"stage_4\"] == 1:\n",
    "            return 4\n",
    "        if row[\"stage_5\"] == 1:\n",
    "            return 5\n",
    "\n",
    "    # Features to keep\n",
    "    features = [\n",
    "        \"age\",\n",
    "        \"mortCancer\",\n",
    "        \"comorbidities\",\n",
    "        \"treatment_CM\",\n",
    "        \"treatment_Primary hormone therapy\",\n",
    "        \"treatment_Radical Therapy-RDx\",\n",
    "        \"treatment_Radical therapy-Sx\",\n",
    "        \"grade\",\n",
    "        \"stage_1\",\n",
    "        \"stage_2\",\n",
    "        \"stage_3\",\n",
    "        \"stage_4\",\n",
    "    ]\n",
    "\n",
    "    label = \"psa\"\n",
    "    df = pd.read_csv(f\"../data/{name}.csv\")\n",
    "\n",
    "    df[\"grade\"] = df.apply(aggregate_grade, axis=1)\n",
    "    df[\"stage\"] = df.apply(aggregate_stage, axis=1)\n",
    "    df[\"mortCancer\"] = df[\"mortCancer\"].astype(int)\n",
    "    df[\"mort\"] = df[\"mort\"].astype(int)\n",
    "\n",
    "    mask = df[\"mortCancer\"] == True  # noqa: E712\n",
    "    df_dead = df[mask]\n",
    "    df_survive = df[~mask]\n",
    "\n",
    "    if name == \"seer\":\n",
    "        n_samples = n\n",
    "        ns = n\n",
    "    else:\n",
    "        n_samples = 1000\n",
    "        ns = 1000\n",
    "    df = pd.concat(\n",
    "        [\n",
    "            df_dead.sample(ns, random_state=seed, replace=True),\n",
    "            df_survive.sample(n_samples, random_state=seed),\n",
    "        ],\n",
    "    )\n",
    "\n",
    "    df = sklearn.utils.shuffle(df, random_state=seed)\n",
    "    df = df.reset_index(drop=True)\n",
    "    return df[features], df[label], df\n"
   ]
  },
  {
   "attachments": {},
   "cell_type": "markdown",
   "id": "c387d3e9",
   "metadata": {},
   "source": [
    "# Assess compute time"
   ]
  },
  {
   "cell_type": "code",
   "execution_count": 6,
   "id": "6RAgXN0Fq1Cx",
   "metadata": {
    "colab": {
     "base_uri": "https://localhost:8080/"
    },
    "id": "6RAgXN0Fq1Cx",
    "outputId": "4b1f8a68-adc8-4be2-cc24-0f55584796bc"
   },
   "outputs": [
    {
     "name": "stderr",
     "output_type": "stream",
     "text": [
      "  0%|          | 0/7 [00:00<?, ?it/s]"
     ]
    },
    {
     "name": "stdout",
     "output_type": "stream",
     "text": [
      "--------------------------------\n",
      "Running cal size = 0.01\n",
      "--------------------------------\n"
     ]
    },
    {
     "name": "stderr",
     "output_type": "stream",
     "text": [
      " 14%|█▍        | 1/7 [00:03<00:18,  3.09s/it]"
     ]
    },
    {
     "name": "stdout",
     "output_type": "stream",
     "text": [
      "--------------------------------\n",
      "Running cal size = 0.01\n",
      "--------------------------------\n"
     ]
    },
    {
     "name": "stderr",
     "output_type": "stream",
     "text": [
      " 29%|██▊       | 2/7 [00:07<00:17,  3.57s/it]"
     ]
    },
    {
     "name": "stdout",
     "output_type": "stream",
     "text": [
      "--------------------------------\n",
      "Running cal size = 0.01\n",
      "--------------------------------\n"
     ]
    },
    {
     "name": "stderr",
     "output_type": "stream",
     "text": [
      " 43%|████▎     | 3/7 [00:12<00:17,  4.29s/it]"
     ]
    },
    {
     "name": "stdout",
     "output_type": "stream",
     "text": [
      "--------------------------------\n",
      "Running cal size = 0.01\n",
      "--------------------------------\n"
     ]
    },
    {
     "name": "stderr",
     "output_type": "stream",
     "text": [
      " 57%|█████▋    | 4/7 [00:21<00:18,  6.24s/it]"
     ]
    },
    {
     "name": "stdout",
     "output_type": "stream",
     "text": [
      "--------------------------------\n",
      "Running cal size = 0.01\n",
      "--------------------------------\n"
     ]
    },
    {
     "name": "stderr",
     "output_type": "stream",
     "text": [
      " 71%|███████▏  | 5/7 [00:38<00:20, 10.25s/it]"
     ]
    },
    {
     "name": "stdout",
     "output_type": "stream",
     "text": [
      "--------------------------------\n",
      "Running cal size = 0.01\n",
      "--------------------------------\n"
     ]
    },
    {
     "name": "stderr",
     "output_type": "stream",
     "text": [
      " 86%|████████▌ | 6/7 [01:05<00:15, 15.91s/it]"
     ]
    },
    {
     "name": "stdout",
     "output_type": "stream",
     "text": [
      "--------------------------------\n",
      "Running cal size = 0.01\n",
      "--------------------------------\n"
     ]
    },
    {
     "name": "stderr",
     "output_type": "stream",
     "text": [
      "100%|██████████| 7/7 [01:43<00:00, 14.72s/it]\n",
      "  0%|          | 0/7 [00:00<?, ?it/s]"
     ]
    },
    {
     "name": "stdout",
     "output_type": "stream",
     "text": [
      "--------------------------------\n",
      "Running cal size = 0.05\n",
      "--------------------------------\n"
     ]
    },
    {
     "name": "stderr",
     "output_type": "stream",
     "text": [
      " 14%|█▍        | 1/7 [00:03<00:18,  3.16s/it]"
     ]
    },
    {
     "name": "stdout",
     "output_type": "stream",
     "text": [
      "--------------------------------\n",
      "Running cal size = 0.05\n",
      "--------------------------------\n"
     ]
    },
    {
     "name": "stderr",
     "output_type": "stream",
     "text": [
      " 29%|██▊       | 2/7 [00:07<00:18,  3.66s/it]"
     ]
    },
    {
     "name": "stdout",
     "output_type": "stream",
     "text": [
      "--------------------------------\n",
      "Running cal size = 0.05\n",
      "--------------------------------\n"
     ]
    },
    {
     "name": "stderr",
     "output_type": "stream",
     "text": [
      " 43%|████▎     | 3/7 [00:12<00:17,  4.37s/it]"
     ]
    },
    {
     "name": "stdout",
     "output_type": "stream",
     "text": [
      "--------------------------------\n",
      "Running cal size = 0.05\n",
      "--------------------------------\n"
     ]
    },
    {
     "name": "stderr",
     "output_type": "stream",
     "text": [
      " 57%|█████▋    | 4/7 [00:22<00:20,  6.69s/it]"
     ]
    },
    {
     "name": "stdout",
     "output_type": "stream",
     "text": [
      "--------------------------------\n",
      "Running cal size = 0.05\n",
      "--------------------------------\n"
     ]
    },
    {
     "name": "stderr",
     "output_type": "stream",
     "text": [
      " 71%|███████▏  | 5/7 [00:41<00:22, 11.19s/it]"
     ]
    },
    {
     "name": "stdout",
     "output_type": "stream",
     "text": [
      "--------------------------------\n",
      "Running cal size = 0.05\n",
      "--------------------------------\n"
     ]
    },
    {
     "name": "stderr",
     "output_type": "stream",
     "text": [
      " 86%|████████▌ | 6/7 [01:12<00:17, 17.98s/it]"
     ]
    },
    {
     "name": "stdout",
     "output_type": "stream",
     "text": [
      "--------------------------------\n",
      "Running cal size = 0.05\n",
      "--------------------------------\n"
     ]
    },
    {
     "name": "stderr",
     "output_type": "stream",
     "text": [
      "100%|██████████| 7/7 [01:57<00:00, 16.77s/it]\n",
      "  0%|          | 0/7 [00:00<?, ?it/s]"
     ]
    },
    {
     "name": "stdout",
     "output_type": "stream",
     "text": [
      "--------------------------------\n",
      "Running cal size = 0.1\n",
      "--------------------------------\n"
     ]
    },
    {
     "name": "stderr",
     "output_type": "stream",
     "text": [
      " 14%|█▍        | 1/7 [00:02<00:17,  2.95s/it]"
     ]
    },
    {
     "name": "stdout",
     "output_type": "stream",
     "text": [
      "--------------------------------\n",
      "Running cal size = 0.1\n",
      "--------------------------------\n"
     ]
    },
    {
     "name": "stderr",
     "output_type": "stream",
     "text": [
      " 29%|██▊       | 2/7 [00:06<00:17,  3.53s/it]"
     ]
    },
    {
     "name": "stdout",
     "output_type": "stream",
     "text": [
      "--------------------------------\n",
      "Running cal size = 0.1\n",
      "--------------------------------\n"
     ]
    },
    {
     "name": "stderr",
     "output_type": "stream",
     "text": [
      " 43%|████▎     | 3/7 [00:12<00:17,  4.38s/it]"
     ]
    },
    {
     "name": "stdout",
     "output_type": "stream",
     "text": [
      "--------------------------------\n",
      "Running cal size = 0.1\n",
      "--------------------------------\n"
     ]
    },
    {
     "name": "stderr",
     "output_type": "stream",
     "text": [
      " 57%|█████▋    | 4/7 [00:23<00:20,  6.88s/it]"
     ]
    },
    {
     "name": "stdout",
     "output_type": "stream",
     "text": [
      "--------------------------------\n",
      "Running cal size = 0.1\n",
      "--------------------------------\n"
     ]
    },
    {
     "name": "stderr",
     "output_type": "stream",
     "text": [
      " 71%|███████▏  | 5/7 [00:46<00:25, 12.70s/it]"
     ]
    },
    {
     "name": "stdout",
     "output_type": "stream",
     "text": [
      "--------------------------------\n",
      "Running cal size = 0.1\n",
      "--------------------------------\n"
     ]
    },
    {
     "name": "stderr",
     "output_type": "stream",
     "text": [
      " 86%|████████▌ | 6/7 [01:22<00:20, 20.76s/it]"
     ]
    },
    {
     "name": "stdout",
     "output_type": "stream",
     "text": [
      "--------------------------------\n",
      "Running cal size = 0.1\n",
      "--------------------------------\n"
     ]
    },
    {
     "name": "stderr",
     "output_type": "stream",
     "text": [
      "100%|██████████| 7/7 [02:16<00:00, 19.44s/it]\n",
      "  0%|          | 0/7 [00:00<?, ?it/s]"
     ]
    },
    {
     "name": "stdout",
     "output_type": "stream",
     "text": [
      "--------------------------------\n",
      "Running cal size = 0.2\n",
      "--------------------------------\n"
     ]
    },
    {
     "name": "stderr",
     "output_type": "stream",
     "text": [
      " 14%|█▍        | 1/7 [00:03<00:18,  3.14s/it]"
     ]
    },
    {
     "name": "stdout",
     "output_type": "stream",
     "text": [
      "--------------------------------\n",
      "Running cal size = 0.2\n",
      "--------------------------------\n"
     ]
    },
    {
     "name": "stderr",
     "output_type": "stream",
     "text": [
      " 29%|██▊       | 2/7 [00:07<00:19,  3.86s/it]"
     ]
    },
    {
     "name": "stdout",
     "output_type": "stream",
     "text": [
      "--------------------------------\n",
      "Running cal size = 0.2\n",
      "--------------------------------\n"
     ]
    },
    {
     "name": "stderr",
     "output_type": "stream",
     "text": [
      " 43%|████▎     | 3/7 [00:13<00:19,  4.86s/it]"
     ]
    },
    {
     "name": "stdout",
     "output_type": "stream",
     "text": [
      "--------------------------------\n",
      "Running cal size = 0.2\n",
      "--------------------------------\n"
     ]
    },
    {
     "name": "stderr",
     "output_type": "stream",
     "text": [
      " 57%|█████▋    | 4/7 [00:25<00:22,  7.58s/it]"
     ]
    },
    {
     "name": "stdout",
     "output_type": "stream",
     "text": [
      "--------------------------------\n",
      "Running cal size = 0.2\n",
      "--------------------------------\n"
     ]
    },
    {
     "name": "stderr",
     "output_type": "stream",
     "text": [
      " 71%|███████▏  | 5/7 [00:46<00:25, 12.64s/it]"
     ]
    },
    {
     "name": "stdout",
     "output_type": "stream",
     "text": [
      "--------------------------------\n",
      "Running cal size = 0.2\n",
      "--------------------------------\n"
     ]
    },
    {
     "name": "stderr",
     "output_type": "stream",
     "text": [
      " 86%|████████▌ | 6/7 [01:21<00:20, 20.25s/it]"
     ]
    },
    {
     "name": "stdout",
     "output_type": "stream",
     "text": [
      "--------------------------------\n",
      "Running cal size = 0.2\n",
      "--------------------------------\n"
     ]
    },
    {
     "name": "stderr",
     "output_type": "stream",
     "text": [
      "100%|██████████| 7/7 [02:12<00:00, 18.86s/it]\n",
      "  0%|          | 0/7 [00:00<?, ?it/s]"
     ]
    },
    {
     "name": "stdout",
     "output_type": "stream",
     "text": [
      "--------------------------------\n",
      "Running cal size = 0.3\n",
      "--------------------------------\n"
     ]
    },
    {
     "name": "stderr",
     "output_type": "stream",
     "text": [
      " 14%|█▍        | 1/7 [00:02<00:17,  2.90s/it]"
     ]
    },
    {
     "name": "stdout",
     "output_type": "stream",
     "text": [
      "--------------------------------\n",
      "Running cal size = 0.3\n",
      "--------------------------------\n"
     ]
    },
    {
     "name": "stderr",
     "output_type": "stream",
     "text": [
      " 29%|██▊       | 2/7 [00:07<00:18,  3.68s/it]"
     ]
    },
    {
     "name": "stdout",
     "output_type": "stream",
     "text": [
      "--------------------------------\n",
      "Running cal size = 0.3\n",
      "--------------------------------\n"
     ]
    },
    {
     "name": "stderr",
     "output_type": "stream",
     "text": [
      " 43%|████▎     | 3/7 [00:13<00:18,  4.73s/it]"
     ]
    },
    {
     "name": "stdout",
     "output_type": "stream",
     "text": [
      "--------------------------------\n",
      "Running cal size = 0.3\n",
      "--------------------------------\n"
     ]
    },
    {
     "name": "stderr",
     "output_type": "stream",
     "text": [
      " 57%|█████▋    | 4/7 [00:24<00:22,  7.52s/it]"
     ]
    },
    {
     "name": "stdout",
     "output_type": "stream",
     "text": [
      "--------------------------------\n",
      "Running cal size = 0.3\n",
      "--------------------------------\n"
     ]
    },
    {
     "name": "stderr",
     "output_type": "stream",
     "text": [
      " 71%|███████▏  | 5/7 [00:47<00:26, 13.11s/it]"
     ]
    },
    {
     "name": "stdout",
     "output_type": "stream",
     "text": [
      "--------------------------------\n",
      "Running cal size = 0.3\n",
      "--------------------------------\n"
     ]
    },
    {
     "name": "stderr",
     "output_type": "stream",
     "text": [
      " 86%|████████▌ | 6/7 [01:23<00:20, 20.79s/it]"
     ]
    },
    {
     "name": "stdout",
     "output_type": "stream",
     "text": [
      "--------------------------------\n",
      "Running cal size = 0.3\n",
      "--------------------------------\n"
     ]
    },
    {
     "name": "stderr",
     "output_type": "stream",
     "text": [
      "100%|██████████| 7/7 [02:14<00:00, 19.17s/it]\n",
      "  0%|          | 0/7 [00:00<?, ?it/s]"
     ]
    },
    {
     "name": "stdout",
     "output_type": "stream",
     "text": [
      "--------------------------------\n",
      "Running cal size = 0.4\n",
      "--------------------------------\n"
     ]
    },
    {
     "name": "stderr",
     "output_type": "stream",
     "text": [
      " 14%|█▍        | 1/7 [00:03<00:18,  3.11s/it]"
     ]
    },
    {
     "name": "stdout",
     "output_type": "stream",
     "text": [
      "--------------------------------\n",
      "Running cal size = 0.4\n",
      "--------------------------------\n"
     ]
    },
    {
     "name": "stderr",
     "output_type": "stream",
     "text": [
      " 29%|██▊       | 2/7 [00:07<00:19,  3.81s/it]"
     ]
    },
    {
     "name": "stdout",
     "output_type": "stream",
     "text": [
      "--------------------------------\n",
      "Running cal size = 0.4\n",
      "--------------------------------\n"
     ]
    },
    {
     "name": "stderr",
     "output_type": "stream",
     "text": [
      " 43%|████▎     | 3/7 [00:14<00:20,  5.21s/it]"
     ]
    },
    {
     "name": "stdout",
     "output_type": "stream",
     "text": [
      "--------------------------------\n",
      "Running cal size = 0.4\n",
      "--------------------------------\n"
     ]
    },
    {
     "name": "stderr",
     "output_type": "stream",
     "text": [
      " 57%|█████▋    | 4/7 [00:27<00:25,  8.45s/it]"
     ]
    },
    {
     "name": "stdout",
     "output_type": "stream",
     "text": [
      "--------------------------------\n",
      "Running cal size = 0.4\n",
      "--------------------------------\n"
     ]
    },
    {
     "name": "stderr",
     "output_type": "stream",
     "text": [
      " 71%|███████▏  | 5/7 [01:00<00:34, 17.17s/it]"
     ]
    },
    {
     "name": "stdout",
     "output_type": "stream",
     "text": [
      "--------------------------------\n",
      "Running cal size = 0.4\n",
      "--------------------------------\n"
     ]
    },
    {
     "name": "stderr",
     "output_type": "stream",
     "text": [
      " 86%|████████▌ | 6/7 [02:41<00:45, 45.64s/it]"
     ]
    },
    {
     "name": "stdout",
     "output_type": "stream",
     "text": [
      "--------------------------------\n",
      "Running cal size = 0.4\n",
      "--------------------------------\n"
     ]
    },
    {
     "name": "stderr",
     "output_type": "stream",
     "text": [
      "100%|██████████| 7/7 [04:23<00:00, 37.62s/it]\n",
      "  0%|          | 0/7 [00:00<?, ?it/s]"
     ]
    },
    {
     "name": "stdout",
     "output_type": "stream",
     "text": [
      "--------------------------------\n",
      "Running cal size = 0.5\n",
      "--------------------------------\n"
     ]
    },
    {
     "name": "stderr",
     "output_type": "stream",
     "text": [
      " 14%|█▍        | 1/7 [00:06<00:38,  6.46s/it]"
     ]
    },
    {
     "name": "stdout",
     "output_type": "stream",
     "text": [
      "--------------------------------\n",
      "Running cal size = 0.5\n",
      "--------------------------------\n"
     ]
    },
    {
     "name": "stderr",
     "output_type": "stream",
     "text": [
      " 29%|██▊       | 2/7 [00:17<00:44,  8.97s/it]"
     ]
    },
    {
     "name": "stdout",
     "output_type": "stream",
     "text": [
      "--------------------------------\n",
      "Running cal size = 0.5\n",
      "--------------------------------\n"
     ]
    },
    {
     "name": "stderr",
     "output_type": "stream",
     "text": [
      " 43%|████▎     | 3/7 [00:32<00:47, 11.91s/it]"
     ]
    },
    {
     "name": "stdout",
     "output_type": "stream",
     "text": [
      "--------------------------------\n",
      "Running cal size = 0.5\n",
      "--------------------------------\n"
     ]
    },
    {
     "name": "stderr",
     "output_type": "stream",
     "text": [
      " 57%|█████▋    | 4/7 [00:57<00:50, 16.96s/it]"
     ]
    },
    {
     "name": "stdout",
     "output_type": "stream",
     "text": [
      "--------------------------------\n",
      "Running cal size = 0.5\n",
      "--------------------------------\n"
     ]
    },
    {
     "name": "stderr",
     "output_type": "stream",
     "text": [
      " 71%|███████▏  | 5/7 [01:34<00:48, 24.26s/it]"
     ]
    },
    {
     "name": "stdout",
     "output_type": "stream",
     "text": [
      "--------------------------------\n",
      "Running cal size = 0.5\n",
      "--------------------------------\n"
     ]
    },
    {
     "name": "stderr",
     "output_type": "stream",
     "text": [
      " 86%|████████▌ | 6/7 [02:38<00:37, 37.81s/it]"
     ]
    },
    {
     "name": "stdout",
     "output_type": "stream",
     "text": [
      "--------------------------------\n",
      "Running cal size = 0.5\n",
      "--------------------------------\n"
     ]
    },
    {
     "name": "stderr",
     "output_type": "stream",
     "text": [
      "100%|██████████| 7/7 [04:14<00:00, 36.32s/it]\n",
      "  0%|          | 0/7 [00:00<?, ?it/s]"
     ]
    },
    {
     "name": "stdout",
     "output_type": "stream",
     "text": [
      "--------------------------------\n",
      "Running cal size = 0.6\n",
      "--------------------------------\n"
     ]
    },
    {
     "name": "stderr",
     "output_type": "stream",
     "text": [
      " 14%|█▍        | 1/7 [00:07<00:46,  7.73s/it]"
     ]
    },
    {
     "name": "stdout",
     "output_type": "stream",
     "text": [
      "--------------------------------\n",
      "Running cal size = 0.6\n",
      "--------------------------------\n"
     ]
    },
    {
     "name": "stderr",
     "output_type": "stream",
     "text": [
      " 29%|██▊       | 2/7 [00:18<00:47,  9.59s/it]"
     ]
    },
    {
     "name": "stdout",
     "output_type": "stream",
     "text": [
      "--------------------------------\n",
      "Running cal size = 0.6\n",
      "--------------------------------\n"
     ]
    },
    {
     "name": "stderr",
     "output_type": "stream",
     "text": [
      " 43%|████▎     | 3/7 [00:33<00:47, 11.93s/it]"
     ]
    },
    {
     "name": "stdout",
     "output_type": "stream",
     "text": [
      "--------------------------------\n",
      "Running cal size = 0.6\n",
      "--------------------------------\n"
     ]
    },
    {
     "name": "stderr",
     "output_type": "stream",
     "text": [
      " 57%|█████▋    | 4/7 [00:55<00:47, 15.94s/it]"
     ]
    },
    {
     "name": "stdout",
     "output_type": "stream",
     "text": [
      "--------------------------------\n",
      "Running cal size = 0.6\n",
      "--------------------------------\n"
     ]
    },
    {
     "name": "stderr",
     "output_type": "stream",
     "text": [
      " 71%|███████▏  | 5/7 [01:46<00:57, 28.66s/it]"
     ]
    },
    {
     "name": "stdout",
     "output_type": "stream",
     "text": [
      "--------------------------------\n",
      "Running cal size = 0.6\n",
      "--------------------------------\n"
     ]
    },
    {
     "name": "stderr",
     "output_type": "stream",
     "text": [
      " 86%|████████▌ | 6/7 [02:51<00:41, 41.06s/it]"
     ]
    },
    {
     "name": "stdout",
     "output_type": "stream",
     "text": [
      "--------------------------------\n",
      "Running cal size = 0.6\n",
      "--------------------------------\n"
     ]
    },
    {
     "name": "stderr",
     "output_type": "stream",
     "text": [
      "100%|██████████| 7/7 [04:18<00:00, 36.97s/it]\n",
      "  0%|          | 0/7 [00:00<?, ?it/s]"
     ]
    },
    {
     "name": "stdout",
     "output_type": "stream",
     "text": [
      "--------------------------------\n",
      "Running cal size = 0.7\n",
      "--------------------------------\n"
     ]
    },
    {
     "name": "stderr",
     "output_type": "stream",
     "text": [
      " 14%|█▍        | 1/7 [00:06<00:40,  6.69s/it]"
     ]
    },
    {
     "name": "stdout",
     "output_type": "stream",
     "text": [
      "--------------------------------\n",
      "Running cal size = 0.7\n",
      "--------------------------------\n"
     ]
    },
    {
     "name": "stderr",
     "output_type": "stream",
     "text": [
      " 29%|██▊       | 2/7 [00:14<00:35,  7.06s/it]"
     ]
    },
    {
     "name": "stdout",
     "output_type": "stream",
     "text": [
      "--------------------------------\n",
      "Running cal size = 0.7\n",
      "--------------------------------\n"
     ]
    },
    {
     "name": "stderr",
     "output_type": "stream",
     "text": [
      " 43%|████▎     | 3/7 [00:27<00:39,  9.85s/it]"
     ]
    },
    {
     "name": "stdout",
     "output_type": "stream",
     "text": [
      "--------------------------------\n",
      "Running cal size = 0.7\n",
      "--------------------------------\n"
     ]
    },
    {
     "name": "stderr",
     "output_type": "stream",
     "text": [
      " 57%|█████▋    | 4/7 [00:47<00:41, 13.94s/it]"
     ]
    },
    {
     "name": "stdout",
     "output_type": "stream",
     "text": [
      "--------------------------------\n",
      "Running cal size = 0.7\n",
      "--------------------------------\n"
     ]
    },
    {
     "name": "stderr",
     "output_type": "stream",
     "text": [
      " 71%|███████▏  | 5/7 [01:36<00:53, 26.51s/it]"
     ]
    },
    {
     "name": "stdout",
     "output_type": "stream",
     "text": [
      "--------------------------------\n",
      "Running cal size = 0.7\n",
      "--------------------------------\n"
     ]
    },
    {
     "name": "stderr",
     "output_type": "stream",
     "text": [
      " 86%|████████▌ | 6/7 [02:20<00:32, 32.65s/it]"
     ]
    },
    {
     "name": "stdout",
     "output_type": "stream",
     "text": [
      "--------------------------------\n",
      "Running cal size = 0.7\n",
      "--------------------------------\n"
     ]
    },
    {
     "name": "stderr",
     "output_type": "stream",
     "text": [
      "100%|██████████| 7/7 [03:25<00:00, 29.33s/it]\n",
      "  0%|          | 0/7 [00:00<?, ?it/s]"
     ]
    },
    {
     "name": "stdout",
     "output_type": "stream",
     "text": [
      "--------------------------------\n",
      "Running cal size = 0.8\n",
      "--------------------------------\n"
     ]
    },
    {
     "name": "stderr",
     "output_type": "stream",
     "text": [
      " 14%|█▍        | 1/7 [00:03<00:18,  3.09s/it]"
     ]
    },
    {
     "name": "stdout",
     "output_type": "stream",
     "text": [
      "--------------------------------\n",
      "Running cal size = 0.8\n",
      "--------------------------------\n"
     ]
    },
    {
     "name": "stderr",
     "output_type": "stream",
     "text": [
      " 29%|██▊       | 2/7 [00:08<00:21,  4.30s/it]"
     ]
    },
    {
     "name": "stdout",
     "output_type": "stream",
     "text": [
      "--------------------------------\n",
      "Running cal size = 0.8\n",
      "--------------------------------\n"
     ]
    },
    {
     "name": "stderr",
     "output_type": "stream",
     "text": [
      " 43%|████▎     | 3/7 [00:15<00:21,  5.47s/it]"
     ]
    },
    {
     "name": "stdout",
     "output_type": "stream",
     "text": [
      "--------------------------------\n",
      "Running cal size = 0.8\n",
      "--------------------------------\n"
     ]
    },
    {
     "name": "stderr",
     "output_type": "stream",
     "text": [
      " 57%|█████▋    | 4/7 [00:28<00:26,  8.73s/it]"
     ]
    },
    {
     "name": "stdout",
     "output_type": "stream",
     "text": [
      "--------------------------------\n",
      "Running cal size = 0.8\n",
      "--------------------------------\n"
     ]
    },
    {
     "name": "stderr",
     "output_type": "stream",
     "text": [
      " 71%|███████▏  | 5/7 [00:57<00:31, 15.99s/it]"
     ]
    },
    {
     "name": "stdout",
     "output_type": "stream",
     "text": [
      "--------------------------------\n",
      "Running cal size = 0.8\n",
      "--------------------------------\n"
     ]
    },
    {
     "name": "stderr",
     "output_type": "stream",
     "text": [
      " 86%|████████▌ | 6/7 [01:40<00:25, 25.01s/it]"
     ]
    },
    {
     "name": "stdout",
     "output_type": "stream",
     "text": [
      "--------------------------------\n",
      "Running cal size = 0.8\n",
      "--------------------------------\n"
     ]
    },
    {
     "name": "stderr",
     "output_type": "stream",
     "text": [
      "100%|██████████| 7/7 [02:39<00:00, 22.83s/it]\n",
      "  0%|          | 0/7 [00:00<?, ?it/s]"
     ]
    },
    {
     "name": "stdout",
     "output_type": "stream",
     "text": [
      "--------------------------------\n",
      "Running cal size = 0.9\n",
      "--------------------------------\n"
     ]
    },
    {
     "name": "stderr",
     "output_type": "stream",
     "text": [
      " 14%|█▍        | 1/7 [00:03<00:19,  3.19s/it]"
     ]
    },
    {
     "name": "stdout",
     "output_type": "stream",
     "text": [
      "--------------------------------\n",
      "Running cal size = 0.9\n",
      "--------------------------------\n"
     ]
    },
    {
     "name": "stderr",
     "output_type": "stream",
     "text": [
      " 29%|██▊       | 2/7 [00:08<00:21,  4.31s/it]"
     ]
    },
    {
     "name": "stdout",
     "output_type": "stream",
     "text": [
      "--------------------------------\n",
      "Running cal size = 0.9\n",
      "--------------------------------\n"
     ]
    },
    {
     "name": "stderr",
     "output_type": "stream",
     "text": [
      " 43%|████▎     | 3/7 [00:15<00:22,  5.69s/it]"
     ]
    },
    {
     "name": "stdout",
     "output_type": "stream",
     "text": [
      "--------------------------------\n",
      "Running cal size = 0.9\n",
      "--------------------------------\n"
     ]
    },
    {
     "name": "stderr",
     "output_type": "stream",
     "text": [
      " 57%|█████▋    | 4/7 [00:31<00:28,  9.57s/it]"
     ]
    },
    {
     "name": "stdout",
     "output_type": "stream",
     "text": [
      "--------------------------------\n",
      "Running cal size = 0.9\n",
      "--------------------------------\n"
     ]
    },
    {
     "name": "stderr",
     "output_type": "stream",
     "text": [
      " 71%|███████▏  | 5/7 [01:02<00:34, 17.34s/it]"
     ]
    },
    {
     "name": "stdout",
     "output_type": "stream",
     "text": [
      "--------------------------------\n",
      "Running cal size = 0.9\n",
      "--------------------------------\n"
     ]
    },
    {
     "name": "stderr",
     "output_type": "stream",
     "text": [
      " 86%|████████▌ | 6/7 [01:50<00:27, 27.90s/it]"
     ]
    },
    {
     "name": "stdout",
     "output_type": "stream",
     "text": [
      "--------------------------------\n",
      "Running cal size = 0.9\n",
      "--------------------------------\n"
     ]
    },
    {
     "name": "stderr",
     "output_type": "stream",
     "text": [
      "100%|██████████| 7/7 [02:57<00:00, 25.43s/it]\n"
     ]
    }
   ],
   "source": [
    "import random\n",
    "import time\n",
    "from copy import deepcopy\n",
    "import xgboost as xgb\n",
    "from tqdm import tqdm\n",
    "\n",
    "full_results = {}\n",
    "full_results_mse = {}\n",
    "\n",
    "run_triage = {}\n",
    "run_total = {}\n",
    "run_train = {}\n",
    "\n",
    "cal_list = [0.01, 0.05, 0.1, 0.2, 0.3, 0.4, 0.5, 0.6, 0.7, 0.8, 0.9]\n",
    "nlist = [1000, 5000, 10000, 25000, 50000, 75000, 100000]\n",
    "n_runs = 1\n",
    "\n",
    "\n",
    "for calsize in cal_list:\n",
    "    full_triage_time = {}\n",
    "    full_train_time = {}\n",
    "    full_total_time = {}\n",
    "    for nsamps in tqdm(nlist):\n",
    "        print(\"--------------------------------\")\n",
    "        print(f\"Running cal size = {calsize}\")\n",
    "        print(\"--------------------------------\")\n",
    "        triage_time = []\n",
    "        train_time = []\n",
    "        total_time = []\n",
    "        for i in range(n_runs):\n",
    "\n",
    "            seed = i * 10\n",
    "            random.seed(seed)\n",
    "\n",
    "            X_prop_train, y_prop_train, _ = load_seer_cutract_dataset(\n",
    "                name=\"seer\", seed=seed, n=nsamps\n",
    "            )\n",
    "\n",
    "            min_y = y_prop_train.min()\n",
    "            max_y = y_prop_train.max()\n",
    "\n",
    "            y_prop_train = np.array(\n",
    "                [\n",
    "                    (y_prop_train[i] - min_y) / (max_y - min_y)\n",
    "                    for i in range(len(y_prop_train))\n",
    "                ]\n",
    "            )\n",
    "            y_prop_train = pd.Series(y_prop_train)\n",
    "\n",
    "            X_eval, y_eval, _ = load_seer_cutract_dataset(name=\"cutract\", seed=seed)\n",
    "\n",
    "            y_eval = np.array(\n",
    "                [(y_eval[i] - min_y) / (max_y - min_y) for i in range(len(y_eval))]\n",
    "            )\n",
    "            y_eval = pd.Series(y_eval)\n",
    "\n",
    "            test_ids = random.sample(list(range(len(y_eval))), int(0.5 * len(y_eval)))\n",
    "\n",
    "            X_test, y_test = X_eval.iloc[test_ids, :], y_eval.iloc[test_ids]\n",
    "\n",
    "            remaining_eval_ids = np.setdiff1d(range(len(y_eval)), test_ids)\n",
    "\n",
    "            _, X_cal, _, y_cal = train_test_split(\n",
    "                X_eval.iloc[remaining_eval_ids, :],\n",
    "                y_eval.iloc[remaining_eval_ids],\n",
    "                test_size=calsize,\n",
    "                random_state=seed,\n",
    "            )\n",
    "\n",
    "            X_prop_train, X_cal, X_test = (\n",
    "                np.array(X_prop_train),\n",
    "                np.array(X_cal),\n",
    "                np.array(X_test),\n",
    "            )\n",
    "            y_prop_train, y_cal, y_test = (\n",
    "                np.array(y_prop_train),\n",
    "                np.array(y_cal),\n",
    "                np.array(y_test),\n",
    "            )\n",
    "\n",
    "            prop = 0.1\n",
    "            num_ids = int(prop * len(y_prop_train))\n",
    "            last_ids = range(len(y_prop_train))\n",
    "            y_prop_train_corrupt = deepcopy(y_prop_train)\n",
    "            corruptids = random.sample(list(last_ids), num_ids)\n",
    "            for myid in corruptids:\n",
    "                corruption = (np.random.choice(5, 1)[0] / 2) + 1\n",
    "                y_prop_train_corrupt[myid] = y_prop_train_corrupt[myid] * corruption\n",
    "\n",
    "            start = time.time()\n",
    "\n",
    "            nest = 10\n",
    "            learner = xgb.XGBRegressor(n_estimators=nest, random_state=seed)\n",
    "            learner.fit(X_prop_train, y_prop_train)\n",
    "\n",
    "            end = time.time()\n",
    "            train_t = end - start\n",
    "\n",
    "            y_eval = y_prop_train\n",
    "            X_eval = X_prop_train\n",
    "\n",
    "            triage = Triage(\n",
    "                X_eval=X_eval,\n",
    "                y_eval=y_eval,\n",
    "                X_cal=X_cal,\n",
    "                y_cal=y_cal,\n",
    "                nest=nest,\n",
    "                learner=learner,\n",
    "            )\n",
    "            groups_ids, raw_metrics = triage.run()\n",
    "\n",
    "            triage_array = raw_metrics[\"score_metric\"]\n",
    "\n",
    "            percentile_thresh = 75\n",
    "            thresh = 0.33\n",
    "            conf_thresh_low = thresh\n",
    "            conf_thresh_high = 1 - thresh\n",
    "            conf_thresh = 0.5\n",
    "\n",
    "            variability = np.std(triage_array, axis=-1)  \n",
    "            confidence = np.mean(triage_array, axis=-1)\n",
    "\n",
    "            uncert_percentile = np.percentile(variability, percentile_thresh)\n",
    "\n",
    "            oe_ids = np.where(\n",
    "                (confidence <= conf_thresh_low)\n",
    "                & (variability <= np.percentile(variability, percentile_thresh))\n",
    "            )[0]\n",
    "            ue_ids = np.where(\n",
    "                (confidence >= conf_thresh_high)\n",
    "                & (variability <= np.percentile(variability, percentile_thresh))\n",
    "            )[0]\n",
    "\n",
    "            other_ids = np.concatenate((oe_ids, ue_ids))\n",
    "            we_ids = []\n",
    "            for id in range(len(confidence)):\n",
    "                if id not in other_ids:\n",
    "                    we_ids.append(id)\n",
    "\n",
    "            we_ids = np.array(we_ids)\n",
    "\n",
    "            end = time.time()\n",
    "            duration_triage = end - start\n",
    "\n",
    "            n_keep = len(we_ids)\n",
    "            end = time.time()\n",
    "            triage_t = end - start\n",
    "\n",
    "            total_t = triage_t + train_t\n",
    "\n",
    "            triage_time.append(triage_t)\n",
    "            total_time.append(total_t)\n",
    "            train_time.append(train_t)\n",
    "\n",
    "        full_triage_time[nsamps] = triage_time\n",
    "        full_train_time[nsamps] = train_time\n",
    "        full_total_time[nsamps] = total_time\n",
    "\n",
    "    run_triage[calsize] = full_triage_time\n",
    "    run_train[calsize] = full_train_time\n",
    "    run_total[calsize] = full_total_time\n"
   ]
  },
  {
   "attachments": {},
   "cell_type": "markdown",
   "id": "1681b96d",
   "metadata": {},
   "source": [
    "# Plot"
   ]
  },
  {
   "cell_type": "code",
   "execution_count": 7,
   "id": "4xv2aNEzqvxf",
   "metadata": {
    "colab": {
     "base_uri": "https://localhost:8080/",
     "height": 390
    },
    "id": "4xv2aNEzqvxf",
    "outputId": "4d592a43-f751-4673-9654-43fe90263a7b"
   },
   "outputs": [
    {
     "data": {
      "image/png": "[encoded data removed]",
      "text/plain": [
       "<Figure size 600x400 with 1 Axes>"
      ]
     },
     "metadata": {},
     "output_type": "display_data"
    }
   ],
   "source": [
    "\n",
    "data = run_triage\n",
    "\n",
    "plt.figure(figsize=(6, 4))\n",
    "\n",
    "# Assuming each key represents a different trial and each value is a time at some sample number\n",
    "x_values = list(next(iter(data.values())).keys())\n",
    "xs = [f\"{xval/1000}k\" for xval in x_values]\n",
    "\n",
    "# Calculate the mean and standard deviation at each x-value\n",
    "ys = np.array([[val[0] for val in data[key].values()] for key in data])\n",
    "mean_y = np.mean(ys, axis=0)\n",
    "std_y = np.std(ys, axis=0)\n",
    "\n",
    "# Plot the mean line\n",
    "plt.plot(xs, mean_y, label=\"Average\")\n",
    "\n",
    "# Plot the shaded error bar\n",
    "plt.fill_between(xs, mean_y - std_y, mean_y + std_y, color=\"b\", alpha=0.05)\n",
    "\n",
    "plt.xlabel(\"n Samples\")\n",
    "plt.ylabel(\"Time (Seconds)\")\n",
    "plt.legend()\n",
    "\n",
    "plt.show()\n"
   ]
  }
 ],
 "metadata": {
  "colab": {
   "provenance": []
  },
  "kernelspec": {
   "display_name": "new_env_triage",
   "language": "python",
   "name": "python3"
  },
  "language_info": {
   "codemirror_mode": {
    "name": "ipython",
    "version": 3
   },
   "file_extension": ".py",
   "mimetype": "text/x-python",
   "name": "python",
   "nbconvert_exporter": "python",
   "pygments_lexer": "ipython3",
   "version": "3.8.18"
  }
 },
 "nbformat": 4,
 "nbformat_minor": 5
}

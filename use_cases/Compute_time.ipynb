{
 "cells": [
  {
   "cell_type": "code",
   "execution_count": 1,
   "id": "9f9a7dc0-7f54-49ea-af47-b37f2e7d8a18",
   "metadata": {
    "id": "9f9a7dc0-7f54-49ea-af47-b37f2e7d8a18"
   },
   "outputs": [],
   "source": [
    "import sys\n",
    "sys.path.insert(0, \"../\")\n",
    "\n",
    "\n",
    "import matplotlib.pyplot as plt\n",
    "import numpy as np\n",
    "import pandas as pd\n",
    "from sklearn.model_selection import train_test_split\n",
    "\n",
    "from src.dataloader import *\n",
    "from triage.triage import Triage\n",
    "from src.utils import *\n"
   ]
  },
  {
   "cell_type": "code",
   "execution_count": 4,
   "metadata": {},
   "outputs": [
    {
     "ename": "KeyError",
     "evalue": "False",
     "output_type": "error",
     "traceback": [
      "\u001b[0;31m---------------------------------------------------------------------------\u001b[0m",
      "\u001b[0;31mKeyError\u001b[0m                                  Traceback (most recent call last)",
      "File \u001b[0;32m~/miniconda3/envs/triage/lib/python3.8/site-packages/pandas/core/indexes/base.py:3802\u001b[0m, in \u001b[0;36mIndex.get_loc\u001b[0;34m(self, key, method, tolerance)\u001b[0m\n\u001b[1;32m   3801\u001b[0m \u001b[39mtry\u001b[39;00m:\n\u001b[0;32m-> 3802\u001b[0m     \u001b[39mreturn\u001b[39;00m \u001b[39mself\u001b[39;49m\u001b[39m.\u001b[39;49m_engine\u001b[39m.\u001b[39;49mget_loc(casted_key)\n\u001b[1;32m   3803\u001b[0m \u001b[39mexcept\u001b[39;00m \u001b[39mKeyError\u001b[39;00m \u001b[39mas\u001b[39;00m err:\n",
      "File \u001b[0;32m~/miniconda3/envs/triage/lib/python3.8/site-packages/pandas/_libs/index.pyx:138\u001b[0m, in \u001b[0;36mpandas._libs.index.IndexEngine.get_loc\u001b[0;34m()\u001b[0m\n",
      "File \u001b[0;32m~/miniconda3/envs/triage/lib/python3.8/site-packages/pandas/_libs/index.pyx:165\u001b[0m, in \u001b[0;36mpandas._libs.index.IndexEngine.get_loc\u001b[0;34m()\u001b[0m\n",
      "File \u001b[0;32mpandas/_libs/hashtable_class_helper.pxi:5745\u001b[0m, in \u001b[0;36mpandas._libs.hashtable.PyObjectHashTable.get_item\u001b[0;34m()\u001b[0m\n",
      "File \u001b[0;32mpandas/_libs/hashtable_class_helper.pxi:5753\u001b[0m, in \u001b[0;36mpandas._libs.hashtable.PyObjectHashTable.get_item\u001b[0;34m()\u001b[0m\n",
      "\u001b[0;31mKeyError\u001b[0m: False",
      "\nThe above exception was the direct cause of the following exception:\n",
      "\u001b[0;31mKeyError\u001b[0m                                  Traceback (most recent call last)",
      "\u001b[1;32m/home/rob/Documents/projects/code_reviews/neurips_2023/TRIAGE/use_cases/Compute_time.ipynb Cell 2\u001b[0m line \u001b[0;36m1\n\u001b[0;32m----> <a href='vscode-notebook-cell:/home/rob/Documents/projects/code_reviews/neurips_2023/TRIAGE/use_cases/Compute_time.ipynb#X13sZmlsZQ%3D%3D?line=0'>1</a>\u001b[0m df, _, _ \u001b[39m=\u001b[39m load_seer_cutract_dataset(name\u001b[39m=\u001b[39;49m\u001b[39m\"\u001b[39;49m\u001b[39mseer\u001b[39;49m\u001b[39m\"\u001b[39;49m, seed\u001b[39m=\u001b[39;49m\u001b[39m42\u001b[39;49m)\n",
      "File \u001b[0;32m~/Documents/projects/code_reviews/neurips_2023/TRIAGE/use_cases/../src/dataloader.py:82\u001b[0m, in \u001b[0;36mload_seer_cutract_dataset\u001b[0;34m(name, seed, imbalance)\u001b[0m\n\u001b[1;32m     79\u001b[0m df[\u001b[39m\"\u001b[39m\u001b[39mmort\u001b[39m\u001b[39m\"\u001b[39m] \u001b[39m=\u001b[39m df[\u001b[39m\"\u001b[39m\u001b[39mmort\u001b[39m\u001b[39m\"\u001b[39m]\u001b[39m.\u001b[39mastype(\u001b[39mint\u001b[39m)\n\u001b[1;32m     81\u001b[0m mask \u001b[39m=\u001b[39m df[\u001b[39m\"\u001b[39m\u001b[39mmortCancer\u001b[39m\u001b[39m\"\u001b[39m] \u001b[39mis\u001b[39;00m \u001b[39mTrue\u001b[39;00m  \u001b[39m# noqa: E712\u001b[39;00m\n\u001b[0;32m---> 82\u001b[0m df_dead \u001b[39m=\u001b[39m df[mask]\n\u001b[1;32m     83\u001b[0m df_survive \u001b[39m=\u001b[39m df[\u001b[39m~\u001b[39mmask]\n\u001b[1;32m     85\u001b[0m \u001b[39mif\u001b[39;00m imbalance \u001b[39mis\u001b[39;00m \u001b[39mTrue\u001b[39;00m:\n",
      "File \u001b[0;32m~/miniconda3/envs/triage/lib/python3.8/site-packages/pandas/core/frame.py:3807\u001b[0m, in \u001b[0;36mDataFrame.__getitem__\u001b[0;34m(self, key)\u001b[0m\n\u001b[1;32m   3805\u001b[0m \u001b[39mif\u001b[39;00m \u001b[39mself\u001b[39m\u001b[39m.\u001b[39mcolumns\u001b[39m.\u001b[39mnlevels \u001b[39m>\u001b[39m \u001b[39m1\u001b[39m:\n\u001b[1;32m   3806\u001b[0m     \u001b[39mreturn\u001b[39;00m \u001b[39mself\u001b[39m\u001b[39m.\u001b[39m_getitem_multilevel(key)\n\u001b[0;32m-> 3807\u001b[0m indexer \u001b[39m=\u001b[39m \u001b[39mself\u001b[39;49m\u001b[39m.\u001b[39;49mcolumns\u001b[39m.\u001b[39;49mget_loc(key)\n\u001b[1;32m   3808\u001b[0m \u001b[39mif\u001b[39;00m is_integer(indexer):\n\u001b[1;32m   3809\u001b[0m     indexer \u001b[39m=\u001b[39m [indexer]\n",
      "File \u001b[0;32m~/miniconda3/envs/triage/lib/python3.8/site-packages/pandas/core/indexes/base.py:3804\u001b[0m, in \u001b[0;36mIndex.get_loc\u001b[0;34m(self, key, method, tolerance)\u001b[0m\n\u001b[1;32m   3802\u001b[0m     \u001b[39mreturn\u001b[39;00m \u001b[39mself\u001b[39m\u001b[39m.\u001b[39m_engine\u001b[39m.\u001b[39mget_loc(casted_key)\n\u001b[1;32m   3803\u001b[0m \u001b[39mexcept\u001b[39;00m \u001b[39mKeyError\u001b[39;00m \u001b[39mas\u001b[39;00m err:\n\u001b[0;32m-> 3804\u001b[0m     \u001b[39mraise\u001b[39;00m \u001b[39mKeyError\u001b[39;00m(key) \u001b[39mfrom\u001b[39;00m \u001b[39merr\u001b[39;00m\n\u001b[1;32m   3805\u001b[0m \u001b[39mexcept\u001b[39;00m \u001b[39mTypeError\u001b[39;00m:\n\u001b[1;32m   3806\u001b[0m     \u001b[39m# If we have a listlike key, _check_indexing_error will raise\u001b[39;00m\n\u001b[1;32m   3807\u001b[0m     \u001b[39m#  InvalidIndexError. Otherwise we fall through and re-raise\u001b[39;00m\n\u001b[1;32m   3808\u001b[0m     \u001b[39m#  the TypeError.\u001b[39;00m\n\u001b[1;32m   3809\u001b[0m     \u001b[39mself\u001b[39m\u001b[39m.\u001b[39m_check_indexing_error(key)\n",
      "\u001b[0;31mKeyError\u001b[0m: False"
     ]
    }
   ],
   "source": [
    "df, _, _ = load_seer_cutract_dataset(name=\"seer\", seed=42)"
   ]
  },
  {
   "cell_type": "code",
   "execution_count": 3,
   "id": "ef3065dc",
   "metadata": {
    "id": "ef3065dc"
   },
   "outputs": [
    {
     "ename": "KeyError",
     "evalue": "False",
     "output_type": "error",
     "traceback": [
      "\u001b[0;31m---------------------------------------------------------------------------\u001b[0m",
      "\u001b[0;31mKeyError\u001b[0m                                  Traceback (most recent call last)",
      "File \u001b[0;32m~/miniconda3/envs/triage/lib/python3.8/site-packages/pandas/core/indexes/base.py:3802\u001b[0m, in \u001b[0;36mIndex.get_loc\u001b[0;34m(self, key, method, tolerance)\u001b[0m\n\u001b[1;32m   3801\u001b[0m \u001b[39mtry\u001b[39;00m:\n\u001b[0;32m-> 3802\u001b[0m     \u001b[39mreturn\u001b[39;00m \u001b[39mself\u001b[39;49m\u001b[39m.\u001b[39;49m_engine\u001b[39m.\u001b[39;49mget_loc(casted_key)\n\u001b[1;32m   3803\u001b[0m \u001b[39mexcept\u001b[39;00m \u001b[39mKeyError\u001b[39;00m \u001b[39mas\u001b[39;00m err:\n",
      "File \u001b[0;32m~/miniconda3/envs/triage/lib/python3.8/site-packages/pandas/_libs/index.pyx:138\u001b[0m, in \u001b[0;36mpandas._libs.index.IndexEngine.get_loc\u001b[0;34m()\u001b[0m\n",
      "File \u001b[0;32m~/miniconda3/envs/triage/lib/python3.8/site-packages/pandas/_libs/index.pyx:165\u001b[0m, in \u001b[0;36mpandas._libs.index.IndexEngine.get_loc\u001b[0;34m()\u001b[0m\n",
      "File \u001b[0;32mpandas/_libs/hashtable_class_helper.pxi:5745\u001b[0m, in \u001b[0;36mpandas._libs.hashtable.PyObjectHashTable.get_item\u001b[0;34m()\u001b[0m\n",
      "File \u001b[0;32mpandas/_libs/hashtable_class_helper.pxi:5753\u001b[0m, in \u001b[0;36mpandas._libs.hashtable.PyObjectHashTable.get_item\u001b[0;34m()\u001b[0m\n",
      "\u001b[0;31mKeyError\u001b[0m: False",
      "\nThe above exception was the direct cause of the following exception:\n",
      "\u001b[0;31mKeyError\u001b[0m                                  Traceback (most recent call last)",
      "\u001b[1;32m/home/rob/Documents/projects/code_reviews/neurips_2023/TRIAGE/use_cases/Compute_time.ipynb Cell 2\u001b[0m line \u001b[0;36m1\n\u001b[0;32m----> <a href='vscode-notebook-cell:/home/rob/Documents/projects/code_reviews/neurips_2023/TRIAGE/use_cases/Compute_time.ipynb#W1sZmlsZQ%3D%3D?line=0'>1</a>\u001b[0m df, _, _ \u001b[39m=\u001b[39m load_seer_cutract_dataset(name\u001b[39m=\u001b[39;49m\u001b[39m\"\u001b[39;49m\u001b[39mseer\u001b[39;49m\u001b[39m\"\u001b[39;49m, seed\u001b[39m=\u001b[39;49m\u001b[39m42\u001b[39;49m)\n\u001b[1;32m      <a href='vscode-notebook-cell:/home/rob/Documents/projects/code_reviews/neurips_2023/TRIAGE/use_cases/Compute_time.ipynb#W1sZmlsZQ%3D%3D?line=2'>3</a>\u001b[0m cols \u001b[39m=\u001b[39m df\u001b[39m.\u001b[39mcolumns\n",
      "File \u001b[0;32m~/Documents/projects/code_reviews/neurips_2023/TRIAGE/use_cases/../src/dataloader.py:82\u001b[0m, in \u001b[0;36mload_seer_cutract_dataset\u001b[0;34m(name, seed, imbalance)\u001b[0m\n\u001b[1;32m     79\u001b[0m df[\u001b[39m\"\u001b[39m\u001b[39mmort\u001b[39m\u001b[39m\"\u001b[39m] \u001b[39m=\u001b[39m df[\u001b[39m\"\u001b[39m\u001b[39mmort\u001b[39m\u001b[39m\"\u001b[39m]\u001b[39m.\u001b[39mastype(\u001b[39mint\u001b[39m)\n\u001b[1;32m     81\u001b[0m mask \u001b[39m=\u001b[39m df[\u001b[39m\"\u001b[39m\u001b[39mmortCancer\u001b[39m\u001b[39m\"\u001b[39m] \u001b[39mis\u001b[39;00m \u001b[39mTrue\u001b[39;00m  \u001b[39m# noqa: E712\u001b[39;00m\n\u001b[0;32m---> 82\u001b[0m df_dead \u001b[39m=\u001b[39m df[mask]\n\u001b[1;32m     83\u001b[0m df_survive \u001b[39m=\u001b[39m df[\u001b[39m~\u001b[39mmask]\n\u001b[1;32m     85\u001b[0m \u001b[39mif\u001b[39;00m imbalance \u001b[39mis\u001b[39;00m \u001b[39mTrue\u001b[39;00m:\n",
      "File \u001b[0;32m~/miniconda3/envs/triage/lib/python3.8/site-packages/pandas/core/frame.py:3807\u001b[0m, in \u001b[0;36mDataFrame.__getitem__\u001b[0;34m(self, key)\u001b[0m\n\u001b[1;32m   3805\u001b[0m \u001b[39mif\u001b[39;00m \u001b[39mself\u001b[39m\u001b[39m.\u001b[39mcolumns\u001b[39m.\u001b[39mnlevels \u001b[39m>\u001b[39m \u001b[39m1\u001b[39m:\n\u001b[1;32m   3806\u001b[0m     \u001b[39mreturn\u001b[39;00m \u001b[39mself\u001b[39m\u001b[39m.\u001b[39m_getitem_multilevel(key)\n\u001b[0;32m-> 3807\u001b[0m indexer \u001b[39m=\u001b[39m \u001b[39mself\u001b[39;49m\u001b[39m.\u001b[39;49mcolumns\u001b[39m.\u001b[39;49mget_loc(key)\n\u001b[1;32m   3808\u001b[0m \u001b[39mif\u001b[39;00m is_integer(indexer):\n\u001b[1;32m   3809\u001b[0m     indexer \u001b[39m=\u001b[39m [indexer]\n",
      "File \u001b[0;32m~/miniconda3/envs/triage/lib/python3.8/site-packages/pandas/core/indexes/base.py:3804\u001b[0m, in \u001b[0;36mIndex.get_loc\u001b[0;34m(self, key, method, tolerance)\u001b[0m\n\u001b[1;32m   3802\u001b[0m     \u001b[39mreturn\u001b[39;00m \u001b[39mself\u001b[39m\u001b[39m.\u001b[39m_engine\u001b[39m.\u001b[39mget_loc(casted_key)\n\u001b[1;32m   3803\u001b[0m \u001b[39mexcept\u001b[39;00m \u001b[39mKeyError\u001b[39;00m \u001b[39mas\u001b[39;00m err:\n\u001b[0;32m-> 3804\u001b[0m     \u001b[39mraise\u001b[39;00m \u001b[39mKeyError\u001b[39;00m(key) \u001b[39mfrom\u001b[39;00m \u001b[39merr\u001b[39;00m\n\u001b[1;32m   3805\u001b[0m \u001b[39mexcept\u001b[39;00m \u001b[39mTypeError\u001b[39;00m:\n\u001b[1;32m   3806\u001b[0m     \u001b[39m# If we have a listlike key, _check_indexing_error will raise\u001b[39;00m\n\u001b[1;32m   3807\u001b[0m     \u001b[39m#  InvalidIndexError. Otherwise we fall through and re-raise\u001b[39;00m\n\u001b[1;32m   3808\u001b[0m     \u001b[39m#  the TypeError.\u001b[39;00m\n\u001b[1;32m   3809\u001b[0m     \u001b[39mself\u001b[39m\u001b[39m.\u001b[39m_check_indexing_error(key)\n",
      "\u001b[0;31mKeyError\u001b[0m: False"
     ]
    }
   ],
   "source": [
    "df, _, _ = load_seer_cutract_dataset(name=\"seer\", seed=42)\n",
    "\n",
    "cols = df.columns\n"
   ]
  },
  {
   "attachments": {},
   "cell_type": "markdown",
   "id": "7e9a69e1",
   "metadata": {},
   "source": [
    "# Helper to compute evaluation time as part of the overall"
   ]
  },
  {
   "cell_type": "code",
   "execution_count": null,
   "id": "67d42c17",
   "metadata": {
    "id": "67d42c17"
   },
   "outputs": [],
   "source": [
    "def evaluate_methods(X_prop_train, y_prop_train, X_cal, y_cal, X_test, y_test, seed):\n",
    "    from sklearn.metrics import mean_absolute_error as reg_metric\n",
    "    from sklearn.metrics import mean_squared_error as reg_metric_mse\n",
    "    results = {}\n",
    "    results_mse = {}\n",
    "\n",
    "    ######\n",
    "    myids = we_ids\n",
    "    len(myids)\n",
    "\n",
    "    learner_prop = xgb.XGBRegressor(n_estimators=nest, random_state=seed)\n",
    "    learner_prop.fit(X_prop_train[myids, :], y_prop_train[myids])\n",
    "\n",
    "    y_pred = learner_prop.predict(X_test)\n",
    "\n",
    "    results[\"TRIAGE\"] = reg_metric(y_test, y_pred)\n",
    "    results_mse[\"TRIAGE\"] = reg_metric_mse(y_test, y_pred)\n",
    "\n",
    "    return results, results_mse\n"
   ]
  },
  {
   "attachments": {},
   "cell_type": "markdown",
   "id": "f913cb0d",
   "metadata": {},
   "source": [
    "# Helper to modify n_samples for compute time exp"
   ]
  },
  {
   "cell_type": "code",
   "execution_count": null,
   "id": "FPlBtdgGHfjj",
   "metadata": {
    "id": "FPlBtdgGHfjj"
   },
   "outputs": [],
   "source": [
    "def load_seer_cutract_dataset(name=\"seer\", seed=42, n=1000):\n",
    "    \"\"\"Function that loads the Seer and Cutract dataset.\"\"\"\n",
    "\n",
    "    # third party\n",
    "    import pandas as pd\n",
    "    import sklearn\n",
    "\n",
    "    def aggregate_grade(row):\n",
    "        if row[\"grade_1.0\"] == 1:\n",
    "            return 1\n",
    "        if row[\"grade_2.0\"] == 1:\n",
    "            return 2\n",
    "        if row[\"grade_3.0\"] == 1:\n",
    "            return 3\n",
    "        if row[\"grade_4.0\"] == 1:\n",
    "            return 4\n",
    "        if row[\"grade_5.0\"] == 1:\n",
    "            return 5\n",
    "\n",
    "    def aggregate_stage(row):\n",
    "        if row[\"stage_1\"] == 1:\n",
    "            return 1\n",
    "        if row[\"stage_2\"] == 1:\n",
    "            return 2\n",
    "        if row[\"stage_3\"] == 1:\n",
    "            return 3\n",
    "        if row[\"stage_4\"] == 1:\n",
    "            return 4\n",
    "        if row[\"stage_5\"] == 1:\n",
    "            return 5\n",
    "\n",
    "    # Features to keep\n",
    "    features = [\n",
    "        \"age\",\n",
    "        \"mortCancer\",\n",
    "        \"comorbidities\",\n",
    "        \"treatment_CM\",\n",
    "        \"treatment_Primary hormone therapy\",\n",
    "        \"treatment_Radical Therapy-RDx\",\n",
    "        \"treatment_Radical therapy-Sx\",\n",
    "        \"grade\",\n",
    "        \"stage_1\",\n",
    "        \"stage_2\",\n",
    "        \"stage_3\",\n",
    "        \"stage_4\",\n",
    "    ]\n",
    "\n",
    "    label = \"psa\"\n",
    "    df = pd.read_csv(f\"../data/{name}.csv\")\n",
    "\n",
    "    df[\"grade\"] = df.apply(aggregate_grade, axis=1)\n",
    "    df[\"stage\"] = df.apply(aggregate_stage, axis=1)\n",
    "    df[\"mortCancer\"] = df[\"mortCancer\"].astype(int)\n",
    "    df[\"mort\"] = df[\"mort\"].astype(int)\n",
    "\n",
    "    mask = df[\"mortCancer\"] == True  # noqa: E712\n",
    "    df_dead = df[mask]\n",
    "    df_survive = df[~mask]\n",
    "\n",
    "    if name == \"seer\":\n",
    "        n_samples = n\n",
    "        ns = n\n",
    "    else:\n",
    "        n_samples = 1000\n",
    "        ns = 1000\n",
    "    df = pd.concat(\n",
    "        [\n",
    "            df_dead.sample(ns, random_state=seed, replace=True),\n",
    "            df_survive.sample(n_samples, random_state=seed),\n",
    "        ],\n",
    "    )\n",
    "\n",
    "    df = sklearn.utils.shuffle(df, random_state=seed)\n",
    "    df = df.reset_index(drop=True)\n",
    "    return df[features], df[label], df\n"
   ]
  },
  {
   "attachments": {},
   "cell_type": "markdown",
   "id": "c387d3e9",
   "metadata": {},
   "source": [
    "# Assess compute time"
   ]
  },
  {
   "cell_type": "code",
   "execution_count": null,
   "id": "6RAgXN0Fq1Cx",
   "metadata": {
    "colab": {
     "base_uri": "https://localhost:8080/"
    },
    "id": "6RAgXN0Fq1Cx",
    "outputId": "4b1f8a68-adc8-4be2-cc24-0f55584796bc"
   },
   "outputs": [
    {
     "name": "stderr",
     "output_type": "stream",
     "text": [
      "  0%|          | 0/7 [00:00<?, ?it/s]"
     ]
    },
    {
     "name": "stdout",
     "output_type": "stream",
     "text": [
      "--------------------------------\n",
      "Running cal size = 0.01\n",
      "--------------------------------\n"
     ]
    },
    {
     "name": "stderr",
     "output_type": "stream",
     "text": [
      " 14%|█▍        | 1/7 [00:09<00:58,  9.75s/it]"
     ]
    },
    {
     "name": "stdout",
     "output_type": "stream",
     "text": [
      "--------------------------------\n",
      "Running cal size = 0.01\n",
      "--------------------------------\n"
     ]
    },
    {
     "name": "stderr",
     "output_type": "stream",
     "text": [
      " 29%|██▊       | 2/7 [00:22<00:56, 11.26s/it]"
     ]
    },
    {
     "name": "stdout",
     "output_type": "stream",
     "text": [
      "--------------------------------\n",
      "Running cal size = 0.01\n",
      "--------------------------------\n"
     ]
    },
    {
     "name": "stderr",
     "output_type": "stream",
     "text": [
      " 43%|████▎     | 3/7 [00:39<00:57, 14.29s/it]"
     ]
    },
    {
     "name": "stdout",
     "output_type": "stream",
     "text": [
      "--------------------------------\n",
      "Running cal size = 0.01\n",
      "--------------------------------\n"
     ]
    },
    {
     "name": "stderr",
     "output_type": "stream",
     "text": [
      " 57%|█████▋    | 4/7 [01:11<01:03, 21.20s/it]"
     ]
    },
    {
     "name": "stdout",
     "output_type": "stream",
     "text": [
      "--------------------------------\n",
      "Running cal size = 0.01\n",
      "--------------------------------\n"
     ]
    },
    {
     "name": "stderr",
     "output_type": "stream",
     "text": [
      " 71%|███████▏  | 5/7 [02:13<01:11, 35.74s/it]"
     ]
    },
    {
     "name": "stdout",
     "output_type": "stream",
     "text": [
      "--------------------------------\n",
      "Running cal size = 0.01\n",
      "--------------------------------\n"
     ]
    },
    {
     "name": "stderr",
     "output_type": "stream",
     "text": [
      " 86%|████████▌ | 6/7 [03:44<00:54, 54.59s/it]"
     ]
    },
    {
     "name": "stdout",
     "output_type": "stream",
     "text": [
      "--------------------------------\n",
      "Running cal size = 0.01\n",
      "--------------------------------\n"
     ]
    },
    {
     "name": "stderr",
     "output_type": "stream",
     "text": [
      "100%|██████████| 7/7 [05:45<00:00, 49.29s/it]\n",
      "  0%|          | 0/7 [00:00<?, ?it/s]"
     ]
    },
    {
     "name": "stdout",
     "output_type": "stream",
     "text": [
      "--------------------------------\n",
      "Running cal size = 0.05\n",
      "--------------------------------\n"
     ]
    },
    {
     "name": "stderr",
     "output_type": "stream",
     "text": [
      " 14%|█▍        | 1/7 [00:07<00:47,  7.92s/it]"
     ]
    },
    {
     "name": "stdout",
     "output_type": "stream",
     "text": [
      "--------------------------------\n",
      "Running cal size = 0.05\n",
      "--------------------------------\n"
     ]
    },
    {
     "name": "stderr",
     "output_type": "stream",
     "text": [
      " 29%|██▊       | 2/7 [00:18<00:48,  9.74s/it]"
     ]
    },
    {
     "name": "stdout",
     "output_type": "stream",
     "text": [
      "--------------------------------\n",
      "Running cal size = 0.05\n",
      "--------------------------------\n"
     ]
    },
    {
     "name": "stderr",
     "output_type": "stream",
     "text": [
      " 43%|████▎     | 3/7 [00:33<00:48, 12.13s/it]"
     ]
    },
    {
     "name": "stdout",
     "output_type": "stream",
     "text": [
      "--------------------------------\n",
      "Running cal size = 0.05\n",
      "--------------------------------\n"
     ]
    },
    {
     "name": "stderr",
     "output_type": "stream",
     "text": [
      " 57%|█████▋    | 4/7 [01:02<00:55, 18.64s/it]"
     ]
    },
    {
     "name": "stdout",
     "output_type": "stream",
     "text": [
      "--------------------------------\n",
      "Running cal size = 0.05\n",
      "--------------------------------\n"
     ]
    },
    {
     "name": "stderr",
     "output_type": "stream",
     "text": [
      " 71%|███████▏  | 5/7 [02:01<01:06, 33.11s/it]"
     ]
    },
    {
     "name": "stdout",
     "output_type": "stream",
     "text": [
      "--------------------------------\n",
      "Running cal size = 0.05\n",
      "--------------------------------\n"
     ]
    },
    {
     "name": "stderr",
     "output_type": "stream",
     "text": [
      " 86%|████████▌ | 6/7 [03:43<00:56, 56.58s/it]"
     ]
    },
    {
     "name": "stdout",
     "output_type": "stream",
     "text": [
      "--------------------------------\n",
      "Running cal size = 0.05\n",
      "--------------------------------\n"
     ]
    },
    {
     "name": "stderr",
     "output_type": "stream",
     "text": [
      "100%|██████████| 7/7 [05:51<00:00, 50.25s/it]\n",
      "  0%|          | 0/7 [00:00<?, ?it/s]"
     ]
    },
    {
     "name": "stdout",
     "output_type": "stream",
     "text": [
      "--------------------------------\n",
      "Running cal size = 0.1\n",
      "--------------------------------\n"
     ]
    },
    {
     "name": "stderr",
     "output_type": "stream",
     "text": [
      " 14%|█▍        | 1/7 [00:08<00:48,  8.03s/it]"
     ]
    },
    {
     "name": "stdout",
     "output_type": "stream",
     "text": [
      "--------------------------------\n",
      "Running cal size = 0.1\n",
      "--------------------------------\n"
     ]
    },
    {
     "name": "stderr",
     "output_type": "stream",
     "text": [
      " 29%|██▊       | 2/7 [00:18<00:47,  9.60s/it]"
     ]
    },
    {
     "name": "stdout",
     "output_type": "stream",
     "text": [
      "--------------------------------\n",
      "Running cal size = 0.1\n",
      "--------------------------------\n"
     ]
    },
    {
     "name": "stderr",
     "output_type": "stream",
     "text": [
      " 43%|████▎     | 3/7 [00:33<00:47, 11.82s/it]"
     ]
    },
    {
     "name": "stdout",
     "output_type": "stream",
     "text": [
      "--------------------------------\n",
      "Running cal size = 0.1\n",
      "--------------------------------\n"
     ]
    },
    {
     "name": "stderr",
     "output_type": "stream",
     "text": [
      " 57%|█████▋    | 4/7 [01:01<00:54, 18.31s/it]"
     ]
    },
    {
     "name": "stdout",
     "output_type": "stream",
     "text": [
      "--------------------------------\n",
      "Running cal size = 0.1\n",
      "--------------------------------\n"
     ]
    },
    {
     "name": "stderr",
     "output_type": "stream",
     "text": [
      " 71%|███████▏  | 5/7 [01:57<01:03, 31.91s/it]"
     ]
    },
    {
     "name": "stdout",
     "output_type": "stream",
     "text": [
      "--------------------------------\n",
      "Running cal size = 0.1\n",
      "--------------------------------\n"
     ]
    },
    {
     "name": "stderr",
     "output_type": "stream",
     "text": [
      " 86%|████████▌ | 6/7 [03:27<00:51, 51.76s/it]"
     ]
    },
    {
     "name": "stdout",
     "output_type": "stream",
     "text": [
      "--------------------------------\n",
      "Running cal size = 0.1\n",
      "--------------------------------\n"
     ]
    },
    {
     "name": "stderr",
     "output_type": "stream",
     "text": [
      "100%|██████████| 7/7 [05:20<00:00, 45.72s/it]\n",
      "  0%|          | 0/7 [00:00<?, ?it/s]"
     ]
    },
    {
     "name": "stdout",
     "output_type": "stream",
     "text": [
      "--------------------------------\n",
      "Running cal size = 0.2\n",
      "--------------------------------\n"
     ]
    },
    {
     "name": "stderr",
     "output_type": "stream",
     "text": [
      " 14%|█▍        | 1/7 [00:05<00:32,  5.38s/it]"
     ]
    },
    {
     "name": "stdout",
     "output_type": "stream",
     "text": [
      "--------------------------------\n",
      "Running cal size = 0.2\n",
      "--------------------------------\n"
     ]
    },
    {
     "name": "stderr",
     "output_type": "stream",
     "text": [
      " 29%|██▊       | 2/7 [00:13<00:34,  6.84s/it]"
     ]
    },
    {
     "name": "stdout",
     "output_type": "stream",
     "text": [
      "--------------------------------\n",
      "Running cal size = 0.2\n",
      "--------------------------------\n"
     ]
    },
    {
     "name": "stderr",
     "output_type": "stream",
     "text": [
      " 43%|████▎     | 3/7 [00:23<00:33,  8.45s/it]"
     ]
    },
    {
     "name": "stdout",
     "output_type": "stream",
     "text": [
      "--------------------------------\n",
      "Running cal size = 0.2\n",
      "--------------------------------\n"
     ]
    },
    {
     "name": "stderr",
     "output_type": "stream",
     "text": [
      " 57%|█████▋    | 4/7 [00:43<00:38, 12.98s/it]"
     ]
    },
    {
     "name": "stdout",
     "output_type": "stream",
     "text": [
      "--------------------------------\n",
      "Running cal size = 0.2\n",
      "--------------------------------\n"
     ]
    },
    {
     "name": "stderr",
     "output_type": "stream",
     "text": [
      " 71%|███████▏  | 5/7 [01:23<00:45, 22.58s/it]"
     ]
    },
    {
     "name": "stdout",
     "output_type": "stream",
     "text": [
      "--------------------------------\n",
      "Running cal size = 0.2\n",
      "--------------------------------\n"
     ]
    },
    {
     "name": "stderr",
     "output_type": "stream",
     "text": [
      " 86%|████████▌ | 6/7 [02:26<00:36, 36.40s/it]"
     ]
    },
    {
     "name": "stdout",
     "output_type": "stream",
     "text": [
      "--------------------------------\n",
      "Running cal size = 0.2\n",
      "--------------------------------\n"
     ]
    },
    {
     "name": "stderr",
     "output_type": "stream",
     "text": [
      "100%|██████████| 7/7 [03:57<00:00, 33.95s/it]\n",
      "  0%|          | 0/7 [00:00<?, ?it/s]"
     ]
    },
    {
     "name": "stdout",
     "output_type": "stream",
     "text": [
      "--------------------------------\n",
      "Running cal size = 0.3\n",
      "--------------------------------\n"
     ]
    },
    {
     "name": "stderr",
     "output_type": "stream",
     "text": [
      " 14%|█▍        | 1/7 [00:05<00:32,  5.35s/it]"
     ]
    },
    {
     "name": "stdout",
     "output_type": "stream",
     "text": [
      "--------------------------------\n",
      "Running cal size = 0.3\n",
      "--------------------------------\n"
     ]
    },
    {
     "name": "stderr",
     "output_type": "stream",
     "text": [
      " 29%|██▊       | 2/7 [00:13<00:34,  6.98s/it]"
     ]
    },
    {
     "name": "stdout",
     "output_type": "stream",
     "text": [
      "--------------------------------\n",
      "Running cal size = 0.3\n",
      "--------------------------------\n"
     ]
    },
    {
     "name": "stderr",
     "output_type": "stream",
     "text": [
      " 43%|████▎     | 3/7 [00:24<00:34,  8.71s/it]"
     ]
    },
    {
     "name": "stdout",
     "output_type": "stream",
     "text": [
      "--------------------------------\n",
      "Running cal size = 0.3\n",
      "--------------------------------\n"
     ]
    },
    {
     "name": "stderr",
     "output_type": "stream",
     "text": [
      " 57%|█████▋    | 4/7 [00:45<00:40, 13.47s/it]"
     ]
    },
    {
     "name": "stdout",
     "output_type": "stream",
     "text": [
      "--------------------------------\n",
      "Running cal size = 0.3\n",
      "--------------------------------\n"
     ]
    },
    {
     "name": "stderr",
     "output_type": "stream",
     "text": [
      " 71%|███████▏  | 5/7 [01:25<00:46, 23.36s/it]"
     ]
    },
    {
     "name": "stdout",
     "output_type": "stream",
     "text": [
      "--------------------------------\n",
      "Running cal size = 0.3\n",
      "--------------------------------\n"
     ]
    },
    {
     "name": "stderr",
     "output_type": "stream",
     "text": [
      " 86%|████████▌ | 6/7 [02:33<00:38, 38.29s/it]"
     ]
    },
    {
     "name": "stdout",
     "output_type": "stream",
     "text": [
      "--------------------------------\n",
      "Running cal size = 0.3\n",
      "--------------------------------\n"
     ]
    },
    {
     "name": "stderr",
     "output_type": "stream",
     "text": [
      "100%|██████████| 7/7 [04:08<00:00, 35.47s/it]\n",
      "  0%|          | 0/7 [00:00<?, ?it/s]"
     ]
    },
    {
     "name": "stdout",
     "output_type": "stream",
     "text": [
      "--------------------------------\n",
      "Running cal size = 0.4\n",
      "--------------------------------\n"
     ]
    },
    {
     "name": "stderr",
     "output_type": "stream",
     "text": [
      " 14%|█▍        | 1/7 [00:05<00:32,  5.44s/it]"
     ]
    },
    {
     "name": "stdout",
     "output_type": "stream",
     "text": [
      "--------------------------------\n",
      "Running cal size = 0.4\n",
      "--------------------------------\n"
     ]
    },
    {
     "name": "stderr",
     "output_type": "stream",
     "text": [
      " 29%|██▊       | 2/7 [00:13<00:35,  7.05s/it]"
     ]
    },
    {
     "name": "stdout",
     "output_type": "stream",
     "text": [
      "--------------------------------\n",
      "Running cal size = 0.4\n",
      "--------------------------------\n"
     ]
    },
    {
     "name": "stderr",
     "output_type": "stream",
     "text": [
      " 43%|████▎     | 3/7 [00:24<00:35,  8.99s/it]"
     ]
    },
    {
     "name": "stdout",
     "output_type": "stream",
     "text": [
      "--------------------------------\n",
      "Running cal size = 0.4\n",
      "--------------------------------\n"
     ]
    },
    {
     "name": "stderr",
     "output_type": "stream",
     "text": [
      " 57%|█████▋    | 4/7 [00:46<00:42, 14.06s/it]"
     ]
    },
    {
     "name": "stdout",
     "output_type": "stream",
     "text": [
      "--------------------------------\n",
      "Running cal size = 0.4\n",
      "--------------------------------\n"
     ]
    },
    {
     "name": "stderr",
     "output_type": "stream",
     "text": [
      " 71%|███████▏  | 5/7 [01:30<00:49, 24.60s/it]"
     ]
    },
    {
     "name": "stdout",
     "output_type": "stream",
     "text": [
      "--------------------------------\n",
      "Running cal size = 0.4\n",
      "--------------------------------\n"
     ]
    },
    {
     "name": "stderr",
     "output_type": "stream",
     "text": [
      " 86%|████████▌ | 6/7 [02:38<00:39, 39.45s/it]"
     ]
    },
    {
     "name": "stdout",
     "output_type": "stream",
     "text": [
      "--------------------------------\n",
      "Running cal size = 0.4\n",
      "--------------------------------\n"
     ]
    },
    {
     "name": "stderr",
     "output_type": "stream",
     "text": [
      "100%|██████████| 7/7 [04:20<00:00, 37.28s/it]\n",
      "  0%|          | 0/7 [00:00<?, ?it/s]"
     ]
    },
    {
     "name": "stdout",
     "output_type": "stream",
     "text": [
      "--------------------------------\n",
      "Running cal size = 0.5\n",
      "--------------------------------\n"
     ]
    },
    {
     "name": "stderr",
     "output_type": "stream",
     "text": [
      " 14%|█▍        | 1/7 [00:06<00:38,  6.48s/it]"
     ]
    },
    {
     "name": "stdout",
     "output_type": "stream",
     "text": [
      "--------------------------------\n",
      "Running cal size = 0.5\n",
      "--------------------------------\n"
     ]
    },
    {
     "name": "stderr",
     "output_type": "stream",
     "text": [
      " 29%|██▊       | 2/7 [00:14<00:37,  7.56s/it]"
     ]
    },
    {
     "name": "stdout",
     "output_type": "stream",
     "text": [
      "--------------------------------\n",
      "Running cal size = 0.5\n",
      "--------------------------------\n"
     ]
    },
    {
     "name": "stderr",
     "output_type": "stream",
     "text": [
      " 43%|████▎     | 3/7 [00:26<00:37,  9.30s/it]"
     ]
    },
    {
     "name": "stdout",
     "output_type": "stream",
     "text": [
      "--------------------------------\n",
      "Running cal size = 0.5\n",
      "--------------------------------\n"
     ]
    },
    {
     "name": "stderr",
     "output_type": "stream",
     "text": [
      " 57%|█████▋    | 4/7 [00:49<00:44, 14.67s/it]"
     ]
    },
    {
     "name": "stdout",
     "output_type": "stream",
     "text": [
      "--------------------------------\n",
      "Running cal size = 0.5\n",
      "--------------------------------\n"
     ]
    },
    {
     "name": "stderr",
     "output_type": "stream",
     "text": [
      " 71%|███████▏  | 5/7 [01:34<00:51, 25.82s/it]"
     ]
    },
    {
     "name": "stdout",
     "output_type": "stream",
     "text": [
      "--------------------------------\n",
      "Running cal size = 0.5\n",
      "--------------------------------\n"
     ]
    },
    {
     "name": "stderr",
     "output_type": "stream",
     "text": [
      " 86%|████████▌ | 6/7 [02:46<00:41, 41.35s/it]"
     ]
    },
    {
     "name": "stdout",
     "output_type": "stream",
     "text": [
      "--------------------------------\n",
      "Running cal size = 0.5\n",
      "--------------------------------\n"
     ]
    },
    {
     "name": "stderr",
     "output_type": "stream",
     "text": [
      "100%|██████████| 7/7 [04:28<00:00, 38.37s/it]\n",
      "  0%|          | 0/7 [00:00<?, ?it/s]"
     ]
    },
    {
     "name": "stdout",
     "output_type": "stream",
     "text": [
      "--------------------------------\n",
      "Running cal size = 0.6\n",
      "--------------------------------\n"
     ]
    },
    {
     "name": "stderr",
     "output_type": "stream",
     "text": [
      " 14%|█▍        | 1/7 [00:05<00:33,  5.55s/it]"
     ]
    },
    {
     "name": "stdout",
     "output_type": "stream",
     "text": [
      "--------------------------------\n",
      "Running cal size = 0.6\n",
      "--------------------------------\n"
     ]
    },
    {
     "name": "stderr",
     "output_type": "stream",
     "text": [
      " 29%|██▊       | 2/7 [00:15<00:40,  8.17s/it]"
     ]
    },
    {
     "name": "stdout",
     "output_type": "stream",
     "text": [
      "--------------------------------\n",
      "Running cal size = 0.6\n",
      "--------------------------------\n"
     ]
    },
    {
     "name": "stderr",
     "output_type": "stream",
     "text": [
      " 43%|████▎     | 3/7 [00:27<00:39,  9.88s/it]"
     ]
    },
    {
     "name": "stdout",
     "output_type": "stream",
     "text": [
      "--------------------------------\n",
      "Running cal size = 0.6\n",
      "--------------------------------\n"
     ]
    },
    {
     "name": "stderr",
     "output_type": "stream",
     "text": [
      " 57%|█████▋    | 4/7 [00:51<00:46, 15.44s/it]"
     ]
    },
    {
     "name": "stdout",
     "output_type": "stream",
     "text": [
      "--------------------------------\n",
      "Running cal size = 0.6\n",
      "--------------------------------\n"
     ]
    },
    {
     "name": "stderr",
     "output_type": "stream",
     "text": [
      " 71%|███████▏  | 5/7 [01:39<00:54, 27.09s/it]"
     ]
    },
    {
     "name": "stdout",
     "output_type": "stream",
     "text": [
      "--------------------------------\n",
      "Running cal size = 0.6\n",
      "--------------------------------\n"
     ]
    },
    {
     "name": "stderr",
     "output_type": "stream",
     "text": [
      " 86%|████████▌ | 6/7 [02:54<00:43, 43.32s/it]"
     ]
    },
    {
     "name": "stdout",
     "output_type": "stream",
     "text": [
      "--------------------------------\n",
      "Running cal size = 0.6\n",
      "--------------------------------\n"
     ]
    },
    {
     "name": "stderr",
     "output_type": "stream",
     "text": [
      "100%|██████████| 7/7 [04:42<00:00, 40.31s/it]\n",
      "  0%|          | 0/7 [00:00<?, ?it/s]"
     ]
    },
    {
     "name": "stdout",
     "output_type": "stream",
     "text": [
      "--------------------------------\n",
      "Running cal size = 0.7\n",
      "--------------------------------\n"
     ]
    },
    {
     "name": "stderr",
     "output_type": "stream",
     "text": [
      " 14%|█▍        | 1/7 [00:05<00:34,  5.67s/it]"
     ]
    },
    {
     "name": "stdout",
     "output_type": "stream",
     "text": [
      "--------------------------------\n",
      "Running cal size = 0.7\n",
      "--------------------------------\n"
     ]
    },
    {
     "name": "stderr",
     "output_type": "stream",
     "text": [
      " 29%|██▊       | 2/7 [00:14<00:36,  7.36s/it]"
     ]
    },
    {
     "name": "stdout",
     "output_type": "stream",
     "text": [
      "--------------------------------\n",
      "Running cal size = 0.7\n",
      "--------------------------------\n"
     ]
    },
    {
     "name": "stderr",
     "output_type": "stream",
     "text": [
      " 43%|████▎     | 3/7 [00:26<00:38,  9.60s/it]"
     ]
    },
    {
     "name": "stdout",
     "output_type": "stream",
     "text": [
      "--------------------------------\n",
      "Running cal size = 0.7\n",
      "--------------------------------\n"
     ]
    },
    {
     "name": "stderr",
     "output_type": "stream",
     "text": [
      " 57%|█████▋    | 4/7 [00:51<00:47, 15.75s/it]"
     ]
    },
    {
     "name": "stdout",
     "output_type": "stream",
     "text": [
      "--------------------------------\n",
      "Running cal size = 0.7\n",
      "--------------------------------\n"
     ]
    },
    {
     "name": "stderr",
     "output_type": "stream",
     "text": [
      " 71%|███████▏  | 5/7 [01:40<00:55, 27.78s/it]"
     ]
    },
    {
     "name": "stdout",
     "output_type": "stream",
     "text": [
      "--------------------------------\n",
      "Running cal size = 0.7\n",
      "--------------------------------\n"
     ]
    },
    {
     "name": "stderr",
     "output_type": "stream",
     "text": [
      " 86%|████████▌ | 6/7 [02:58<00:44, 44.74s/it]"
     ]
    },
    {
     "name": "stdout",
     "output_type": "stream",
     "text": [
      "--------------------------------\n",
      "Running cal size = 0.7\n",
      "--------------------------------\n"
     ]
    },
    {
     "name": "stderr",
     "output_type": "stream",
     "text": [
      "100%|██████████| 7/7 [04:49<00:00, 41.31s/it]\n",
      "  0%|          | 0/7 [00:00<?, ?it/s]"
     ]
    },
    {
     "name": "stdout",
     "output_type": "stream",
     "text": [
      "--------------------------------\n",
      "Running cal size = 0.8\n",
      "--------------------------------\n"
     ]
    },
    {
     "name": "stderr",
     "output_type": "stream",
     "text": [
      " 14%|█▍        | 1/7 [00:05<00:34,  5.70s/it]"
     ]
    },
    {
     "name": "stdout",
     "output_type": "stream",
     "text": [
      "--------------------------------\n",
      "Running cal size = 0.8\n",
      "--------------------------------\n"
     ]
    },
    {
     "name": "stderr",
     "output_type": "stream",
     "text": [
      " 29%|██▊       | 2/7 [00:14<00:37,  7.49s/it]"
     ]
    },
    {
     "name": "stdout",
     "output_type": "stream",
     "text": [
      "--------------------------------\n",
      "Running cal size = 0.8\n",
      "--------------------------------\n"
     ]
    },
    {
     "name": "stderr",
     "output_type": "stream",
     "text": [
      " 43%|████▎     | 3/7 [00:26<00:39,  9.77s/it]"
     ]
    },
    {
     "name": "stdout",
     "output_type": "stream",
     "text": [
      "--------------------------------\n",
      "Running cal size = 0.8\n",
      "--------------------------------\n"
     ]
    },
    {
     "name": "stderr",
     "output_type": "stream",
     "text": [
      " 57%|█████▋    | 4/7 [00:53<00:48, 16.21s/it]"
     ]
    },
    {
     "name": "stdout",
     "output_type": "stream",
     "text": [
      "--------------------------------\n",
      "Running cal size = 0.8\n",
      "--------------------------------\n"
     ]
    },
    {
     "name": "stderr",
     "output_type": "stream",
     "text": [
      " 71%|███████▏  | 5/7 [01:44<00:57, 28.83s/it]"
     ]
    },
    {
     "name": "stdout",
     "output_type": "stream",
     "text": [
      "--------------------------------\n",
      "Running cal size = 0.8\n",
      "--------------------------------\n"
     ]
    },
    {
     "name": "stderr",
     "output_type": "stream",
     "text": [
      " 86%|████████▌ | 6/7 [03:05<00:46, 46.62s/it]"
     ]
    },
    {
     "name": "stdout",
     "output_type": "stream",
     "text": [
      "--------------------------------\n",
      "Running cal size = 0.8\n",
      "--------------------------------\n"
     ]
    },
    {
     "name": "stderr",
     "output_type": "stream",
     "text": [
      "100%|██████████| 7/7 [05:00<00:00, 42.90s/it]\n",
      "  0%|          | 0/7 [00:00<?, ?it/s]"
     ]
    },
    {
     "name": "stdout",
     "output_type": "stream",
     "text": [
      "--------------------------------\n",
      "Running cal size = 0.9\n",
      "--------------------------------\n"
     ]
    },
    {
     "name": "stderr",
     "output_type": "stream",
     "text": [
      " 14%|█▍        | 1/7 [00:05<00:34,  5.73s/it]"
     ]
    },
    {
     "name": "stdout",
     "output_type": "stream",
     "text": [
      "--------------------------------\n",
      "Running cal size = 0.9\n",
      "--------------------------------\n"
     ]
    },
    {
     "name": "stderr",
     "output_type": "stream",
     "text": [
      " 29%|██▊       | 2/7 [00:15<00:40,  8.08s/it]"
     ]
    },
    {
     "name": "stdout",
     "output_type": "stream",
     "text": [
      "--------------------------------\n",
      "Running cal size = 0.9\n",
      "--------------------------------\n"
     ]
    },
    {
     "name": "stderr",
     "output_type": "stream",
     "text": [
      " 43%|████▎     | 3/7 [00:28<00:41, 10.43s/it]"
     ]
    },
    {
     "name": "stdout",
     "output_type": "stream",
     "text": [
      "--------------------------------\n",
      "Running cal size = 0.9\n",
      "--------------------------------\n"
     ]
    },
    {
     "name": "stderr",
     "output_type": "stream",
     "text": [
      " 57%|█████▋    | 4/7 [00:56<00:51, 17.25s/it]"
     ]
    },
    {
     "name": "stdout",
     "output_type": "stream",
     "text": [
      "--------------------------------\n",
      "Running cal size = 0.9\n",
      "--------------------------------\n"
     ]
    },
    {
     "name": "stderr",
     "output_type": "stream",
     "text": [
      " 71%|███████▏  | 5/7 [01:50<01:00, 30.47s/it]"
     ]
    },
    {
     "name": "stdout",
     "output_type": "stream",
     "text": [
      "--------------------------------\n",
      "Running cal size = 0.9\n",
      "--------------------------------\n"
     ]
    },
    {
     "name": "stderr",
     "output_type": "stream",
     "text": [
      " 86%|████████▌ | 6/7 [03:21<00:51, 51.22s/it]"
     ]
    },
    {
     "name": "stdout",
     "output_type": "stream",
     "text": [
      "--------------------------------\n",
      "Running cal size = 0.9\n",
      "--------------------------------\n"
     ]
    },
    {
     "name": "stderr",
     "output_type": "stream",
     "text": [
      "100%|██████████| 7/7 [05:22<00:00, 46.14s/it]\n"
     ]
    }
   ],
   "source": [
    "import random\n",
    "import time\n",
    "from copy import deepcopy\n",
    "import xgboost as xgb\n",
    "from tqdm import tqdm\n",
    "\n",
    "full_results = {}\n",
    "full_results_mse = {}\n",
    "\n",
    "run_triage = {}\n",
    "run_total = {}\n",
    "run_train = {}\n",
    "\n",
    "cal_list = [0.01, 0.05, 0.1, 0.2, 0.3, 0.4, 0.5, 0.6, 0.7, 0.8, 0.9]\n",
    "nlist = [1000, 5000, 10000, 25000, 50000, 75000, 100000]\n",
    "n_runs = 1\n",
    "\n",
    "\n",
    "for calsize in cal_list:\n",
    "    full_triage_time = {}\n",
    "    full_train_time = {}\n",
    "    full_total_time = {}\n",
    "    for nsamps in tqdm(nlist):\n",
    "        print(\"--------------------------------\")\n",
    "        print(f\"Running cal size = {calsize}\")\n",
    "        print(\"--------------------------------\")\n",
    "        triage_time = []\n",
    "        train_time = []\n",
    "        total_time = []\n",
    "        for i in range(n_runs):\n",
    "\n",
    "            seed = i * 10\n",
    "            random.seed(seed)\n",
    "\n",
    "            X_prop_train, y_prop_train, _ = load_seer_cutract_dataset(\n",
    "                name=\"seer\", seed=seed, n=nsamps\n",
    "            )\n",
    "\n",
    "            min_y = y_prop_train.min()\n",
    "            max_y = y_prop_train.max()\n",
    "\n",
    "            y_prop_train = np.array(\n",
    "                [\n",
    "                    (y_prop_train[i] - min_y) / (max_y - min_y)\n",
    "                    for i in range(len(y_prop_train))\n",
    "                ]\n",
    "            )\n",
    "            y_prop_train = pd.Series(y_prop_train)\n",
    "\n",
    "            X_eval, y_eval, _ = load_seer_cutract_dataset(name=\"cutract\", seed=seed)\n",
    "\n",
    "            y_eval = np.array(\n",
    "                [(y_eval[i] - min_y) / (max_y - min_y) for i in range(len(y_eval))]\n",
    "            )\n",
    "            y_eval = pd.Series(y_eval)\n",
    "\n",
    "            test_ids = random.sample(list(range(len(y_eval))), int(0.5 * len(y_eval)))\n",
    "\n",
    "            X_test, y_test = X_eval.iloc[test_ids, :], y_eval.iloc[test_ids]\n",
    "\n",
    "            remaining_eval_ids = np.setdiff1d(range(len(y_eval)), test_ids)\n",
    "\n",
    "            _, X_cal, _, y_cal = train_test_split(\n",
    "                X_eval.iloc[remaining_eval_ids, :],\n",
    "                y_eval.iloc[remaining_eval_ids],\n",
    "                test_size=calsize,\n",
    "                random_state=seed,\n",
    "            )\n",
    "\n",
    "            X_prop_train, X_cal, X_test = (\n",
    "                np.array(X_prop_train),\n",
    "                np.array(X_cal),\n",
    "                np.array(X_test),\n",
    "            )\n",
    "            y_prop_train, y_cal, y_test = (\n",
    "                np.array(y_prop_train),\n",
    "                np.array(y_cal),\n",
    "                np.array(y_test),\n",
    "            )\n",
    "\n",
    "            prop = 0.1\n",
    "            num_ids = int(prop * len(y_prop_train))\n",
    "            last_ids = range(len(y_prop_train))\n",
    "            y_prop_train_corrupt = deepcopy(y_prop_train)\n",
    "            corruptids = random.sample(list(last_ids), num_ids)\n",
    "            for myid in corruptids:\n",
    "                corruption = (np.random.choice(5, 1)[0] / 2) + 1\n",
    "                y_prop_train_corrupt[myid] = y_prop_train_corrupt[myid] * corruption\n",
    "\n",
    "            start = time.time()\n",
    "\n",
    "            nest = 10\n",
    "            learner = xgb.XGBRegressor(n_estimators=nest, random_state=seed)\n",
    "            learner.fit(X_prop_train, y_prop_train)\n",
    "\n",
    "            end = time.time()\n",
    "            train_t = end - start\n",
    "\n",
    "            y_eval = y_prop_train\n",
    "            X_eval = X_prop_train\n",
    "\n",
    "            triage = Triage(\n",
    "                X_eval=X_eval,\n",
    "                y_eval=y_eval,\n",
    "                X_cal=X_cal,\n",
    "                y_cal=y_cal,\n",
    "                nest=nest,\n",
    "                learner=learner,\n",
    "            )\n",
    "            groups_ids, raw_metrics = triage.run()\n",
    "\n",
    "            triage_array = raw_metrics[\"score_metric\"]\n",
    "\n",
    "            percentile_thresh = 75\n",
    "            thresh = 0.33\n",
    "            conf_thresh_low = thresh\n",
    "            conf_thresh_high = 1 - thresh\n",
    "            conf_thresh = 0.5\n",
    "\n",
    "            variability = np.std(triage_array, axis=-1)  \n",
    "            confidence = np.mean(triage_array, axis=-1)\n",
    "\n",
    "            uncert_percentile = np.percentile(variability, percentile_thresh)\n",
    "\n",
    "            oe_ids = np.where(\n",
    "                (confidence <= conf_thresh_low)\n",
    "                & (variability <= np.percentile(variability, percentile_thresh))\n",
    "            )[0]\n",
    "            ue_ids = np.where(\n",
    "                (confidence >= conf_thresh_high)\n",
    "                & (variability <= np.percentile(variability, percentile_thresh))\n",
    "            )[0]\n",
    "\n",
    "            other_ids = np.concatenate((oe_ids, ue_ids))\n",
    "            we_ids = []\n",
    "            for id in range(len(confidence)):\n",
    "                if id not in other_ids:\n",
    "                    we_ids.append(id)\n",
    "\n",
    "            we_ids = np.array(we_ids)\n",
    "\n",
    "            end = time.time()\n",
    "            duration_triage = end - start\n",
    "\n",
    "            n_keep = len(we_ids)\n",
    "            end = time.time()\n",
    "            triage_t = end - start\n",
    "\n",
    "            total_t = triage_t + train_t\n",
    "\n",
    "            triage_time.append(triage_t)\n",
    "            total_time.append(total_t)\n",
    "            train_time.append(train_t)\n",
    "\n",
    "        full_triage_time[nsamps] = triage_time\n",
    "        full_train_time[nsamps] = train_time\n",
    "        full_total_time[nsamps] = total_time\n",
    "\n",
    "    run_triage[calsize] = full_triage_time\n",
    "    run_train[calsize] = full_train_time\n",
    "    run_total[calsize] = full_total_time\n"
   ]
  },
  {
   "attachments": {},
   "cell_type": "markdown",
   "id": "1681b96d",
   "metadata": {},
   "source": [
    "# Plot"
   ]
  },
  {
   "cell_type": "code",
   "execution_count": null,
   "id": "4xv2aNEzqvxf",
   "metadata": {
    "colab": {
     "base_uri": "https://localhost:8080/",
     "height": 390
    },
    "id": "4xv2aNEzqvxf",
    "outputId": "4d592a43-f751-4673-9654-43fe90263a7b"
   },
   "outputs": [
    {
     "data": {
      "image/png": "[encoded data removed]",
      "text/plain": [
       "<Figure size 600x400 with 1 Axes>"
      ]
     },
     "metadata": {},
     "output_type": "display_data"
    }
   ],
   "source": [
    "\n",
    "data = run_triage\n",
    "\n",
    "plt.figure(figsize=(6, 4))\n",
    "\n",
    "# Assuming each key represents a different trial and each value is a time at some sample number\n",
    "x_values = list(next(iter(data.values())).keys())\n",
    "xs = [f\"{xval/1000}k\" for xval in x_values]\n",
    "\n",
    "# Calculate the mean and standard deviation at each x-value\n",
    "ys = np.array([[val[0] for val in data[key].values()] for key in data])\n",
    "mean_y = np.mean(ys, axis=0)\n",
    "std_y = np.std(ys, axis=0)\n",
    "\n",
    "# Plot the mean line\n",
    "plt.plot(xs, mean_y, label=\"Average\")\n",
    "\n",
    "# Plot the shaded error bar\n",
    "plt.fill_between(xs, mean_y - std_y, mean_y + std_y, color=\"b\", alpha=0.05)\n",
    "\n",
    "plt.xlabel(\"n Samples\")\n",
    "plt.ylabel(\"Time (Seconds)\")\n",
    "plt.legend()\n",
    "\n",
    "plt.show()\n"
   ]
  }
 ],
 "metadata": {
  "colab": {
   "provenance": []
  },
  "kernelspec": {
   "display_name": "new_env_triage",
   "language": "python",
   "name": "python3"
  },
  "language_info": {
   "codemirror_mode": {
    "name": "ipython",
    "version": 3
   },
   "file_extension": ".py",
   "mimetype": "text/x-python",
   "name": "python",
   "nbconvert_exporter": "python",
   "pygments_lexer": "ipython3",
   "version": "3.8.18"
  }
 },
 "nbformat": 4,
 "nbformat_minor": 5
}
